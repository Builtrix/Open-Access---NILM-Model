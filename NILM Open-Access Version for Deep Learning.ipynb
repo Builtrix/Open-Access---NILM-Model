{
 "cells": [
  {
   "cell_type": "markdown",
   "metadata": {
    "id": "X_vuFwyRahsS"
   },
   "source": [
    "# **Challenge Explanation**\n",
    "\n",
    "This document presents your coding challenge as part of your application for ***Builtrix*** Open Position.\n",
    "\n",
    "The following list are the electrical appliances from REFIT open dataset. It is a 2-bedroom apartment built between 1900 - 1910 and has three occupants. The dataset is stored in csv format in two different files (RAW_House_P1 & RAW_House_P2). It is in time series format and beside the time columns, it has 9 columns that are respectively:\n",
    "\n",
    "0.Aggregate, 1.Fridge, 2.Freezer, 3.Fridge-Freezer, 4.Washing Machine 1, 5.Washing Machine 2, 6.Desktop Computer, 7.Television, 8.Microwave, 9.Kettle,\n",
    "\n",
    "with power consumptions in ***Watt***.\n",
    "\n",
    "The dataset is timestamped and sampled at 8 second intervals (not always!) and it is ***not clean***. So, the cleaning is performed for:\n",
    "\n",
    "1- merging the two files (also timestamp duplicates is merged). <br>\n",
    "2- Individual Appliance readings is set to 0 Watts if above 4000 Watts (above the rated limit of the sensor). <br>\n",
    "3- NaN values are filled with proper methods (< 2-minute gaps) or zeroed or removed (> 2-minute gaps). <br>\n",
    "4- Other cleanings when necessary.<br>\n",
    "\n",
    "The goal is to disaggregate the aggregated power (column C) into the major appliances (D to L) in the house. Thus, we need you to identify the operational status of the appliances only by the aggregated signal (and other features you identify in date and time) and then estimate the consumption of appliances."
   ]
  },
  {
   "cell_type": "markdown",
   "metadata": {
    "id": "-RvaSqkLdKTV"
   },
   "source": [
    "## Import necessary libraries and packages"
   ]
  },
  {
   "cell_type": "code",
   "execution_count": null,
   "metadata": {
    "id": "9dCwJ2f_Z1WB"
   },
   "outputs": [],
   "source": [
    "import pandas as pd\n",
    "import numpy as np\n",
    "import matplotlib.pyplot as plt\n",
    "%matplotlib inline\n",
    "from IPython.display import display\n",
    "import datetime\n",
    "import time\n",
    "import math\n",
    "from sklearn import svm\n",
    "from sklearn import metrics\n",
    "from sklearn.metrics import confusion_matrix\n",
    "from sklearn.metrics import precision_score, recall_score, f1_score, accuracy_score\n",
    "import tensorflow.keras\n",
    "from tensorflow.keras.models import Sequential, load_model\n",
    "from tensorflow.keras.layers import Dense, Activation, Dropout, InputLayer, LSTM, Bidirectional\n",
    "from tensorflow.keras import regularizers\n",
    "from tensorflow.keras.callbacks import EarlyStopping, ModelCheckpoint\n",
    "from tensorflow.keras.layers import LeakyReLU,PReLU\n",
    "from tensorflow.keras.optimizers import Adam\n",
    "from tensorflow.keras.regularizers import l2"
   ]
  },
  {
   "cell_type": "markdown",
   "metadata": {
    "id": "WROgWvhNdQp6"
   },
   "source": [
    "## Read both .CSV files and merge them"
   ]
  },
  {
   "cell_type": "code",
   "execution_count": null,
   "metadata": {
    "colab": {
     "base_uri": "https://localhost:8080/"
    },
    "id": "NfOBzATKMCev",
    "outputId": "7b19afc6-21d0-485a-cc7e-af5686bcb072"
   },
   "outputs": [
    {
     "name": "stdout",
     "output_type": "stream",
     "text": [
      "Drive already mounted at /content/drive; to attempt to forcibly remount, call drive.mount(\"/content/drive\", force_remount=True).\n"
     ]
    }
   ],
   "source": [
    "from google.colab import drive\n",
    "drive.mount('/content/drive')"
   ]
  },
  {
   "cell_type": "code",
   "execution_count": null,
   "metadata": {
    "id": "8SJw6PWldaXL"
   },
   "outputs": [],
   "source": [
    "house_part1 = pd.read_csv('/content/drive/MyDrive/Colab Notebooks/Builtrix data/RAW_House_P1.csv', encoding = 'UTF-8', header = 0)\n",
    "house_part2 = pd.read_csv('/content/drive/MyDrive/Colab Notebooks/Builtrix data/RAW_House_P2.csv', encoding = 'UTF-8', header = 0)\n",
    "df = pd.merge(house_part1, house_part2, how='outer')\n",
    "df['timestamp'] = df['Unix'].astype(\"datetime64[s]\")\n",
    "df = df.set_index(df['timestamp'].values)\n",
    "df.drop(['Unix','timestamp', 'Time'], axis=1, inplace=True)"
   ]
  },
  {
   "cell_type": "markdown",
   "metadata": {
    "id": "kCIKNEZJda-X"
   },
   "source": [
    "## Clean the data"
   ]
  },
  {
   "cell_type": "code",
   "execution_count": null,
   "metadata": {
    "colab": {
     "base_uri": "https://localhost:8080/"
    },
    "id": "24oRCjs_WpzY",
    "outputId": "6ec70b3b-8369-421d-f4bb-1d039c107a3c"
   },
   "outputs": [
    {
     "data": {
      "text/plain": [
       "(8455486, 10)"
      ]
     },
     "execution_count": 4,
     "metadata": {},
     "output_type": "execute_result"
    }
   ],
   "source": [
    "df.shape"
   ]
  },
  {
   "cell_type": "code",
   "execution_count": null,
   "metadata": {
    "colab": {
     "base_uri": "https://localhost:8080/",
     "height": 300
    },
    "id": "5hMJEbOwO1NY",
    "outputId": "59853a90-1a38-45e5-eb9e-32e5a698e55e"
   },
   "outputs": [
    {
     "data": {
      "text/html": [
       "\n",
       "  <div id=\"df-a76b92bf-e580-4e43-98bf-e8dfe744f7e0\">\n",
       "    <div class=\"colab-df-container\">\n",
       "      <div>\n",
       "<style scoped>\n",
       "    .dataframe tbody tr th:only-of-type {\n",
       "        vertical-align: middle;\n",
       "    }\n",
       "\n",
       "    .dataframe tbody tr th {\n",
       "        vertical-align: top;\n",
       "    }\n",
       "\n",
       "    .dataframe thead th {\n",
       "        text-align: right;\n",
       "    }\n",
       "</style>\n",
       "<table border=\"1\" class=\"dataframe\">\n",
       "  <thead>\n",
       "    <tr style=\"text-align: right;\">\n",
       "      <th></th>\n",
       "      <th>Aggregate</th>\n",
       "      <th>Appliance1</th>\n",
       "      <th>Appliance2</th>\n",
       "      <th>Appliance3</th>\n",
       "      <th>Appliance4</th>\n",
       "      <th>Appliance5</th>\n",
       "      <th>Appliance6</th>\n",
       "      <th>Appliance7</th>\n",
       "      <th>Appliance8</th>\n",
       "      <th>Appliance9</th>\n",
       "    </tr>\n",
       "  </thead>\n",
       "  <tbody>\n",
       "    <tr>\n",
       "      <th>count</th>\n",
       "      <td>8.244512e+06</td>\n",
       "      <td>8.062020e+06</td>\n",
       "      <td>8.063054e+06</td>\n",
       "      <td>8.054454e+06</td>\n",
       "      <td>8.079342e+06</td>\n",
       "      <td>8.048886e+06</td>\n",
       "      <td>8.245914e+06</td>\n",
       "      <td>8.158148e+06</td>\n",
       "      <td>8.086510e+06</td>\n",
       "      <td>8.150872e+06</td>\n",
       "    </tr>\n",
       "    <tr>\n",
       "      <th>mean</th>\n",
       "      <td>3.806739e+02</td>\n",
       "      <td>1.068457e+01</td>\n",
       "      <td>6.403073e+01</td>\n",
       "      <td>3.848839e+01</td>\n",
       "      <td>4.412760e+00</td>\n",
       "      <td>1.160047e+01</td>\n",
       "      <td>1.443560e+01</td>\n",
       "      <td>2.389956e+01</td>\n",
       "      <td>9.582997e+00</td>\n",
       "      <td>1.095508e+01</td>\n",
       "    </tr>\n",
       "    <tr>\n",
       "      <th>std</th>\n",
       "      <td>4.287898e+02</td>\n",
       "      <td>1.777035e+02</td>\n",
       "      <td>2.559318e+02</td>\n",
       "      <td>1.974058e+02</td>\n",
       "      <td>1.186911e+02</td>\n",
       "      <td>2.518413e+02</td>\n",
       "      <td>5.630290e+01</td>\n",
       "      <td>7.992700e+01</td>\n",
       "      <td>1.399579e+02</td>\n",
       "      <td>1.687727e+02</td>\n",
       "    </tr>\n",
       "    <tr>\n",
       "      <th>min</th>\n",
       "      <td>0.000000e+00</td>\n",
       "      <td>0.000000e+00</td>\n",
       "      <td>0.000000e+00</td>\n",
       "      <td>0.000000e+00</td>\n",
       "      <td>0.000000e+00</td>\n",
       "      <td>0.000000e+00</td>\n",
       "      <td>0.000000e+00</td>\n",
       "      <td>0.000000e+00</td>\n",
       "      <td>0.000000e+00</td>\n",
       "      <td>0.000000e+00</td>\n",
       "    </tr>\n",
       "    <tr>\n",
       "      <th>25%</th>\n",
       "      <td>1.940000e+02</td>\n",
       "      <td>0.000000e+00</td>\n",
       "      <td>0.000000e+00</td>\n",
       "      <td>0.000000e+00</td>\n",
       "      <td>0.000000e+00</td>\n",
       "      <td>0.000000e+00</td>\n",
       "      <td>8.000000e+00</td>\n",
       "      <td>0.000000e+00</td>\n",
       "      <td>2.000000e+00</td>\n",
       "      <td>0.000000e+00</td>\n",
       "    </tr>\n",
       "    <tr>\n",
       "      <th>50%</th>\n",
       "      <td>2.970000e+02</td>\n",
       "      <td>0.000000e+00</td>\n",
       "      <td>0.000000e+00</td>\n",
       "      <td>0.000000e+00</td>\n",
       "      <td>0.000000e+00</td>\n",
       "      <td>0.000000e+00</td>\n",
       "      <td>9.000000e+00</td>\n",
       "      <td>0.000000e+00</td>\n",
       "      <td>2.000000e+00</td>\n",
       "      <td>0.000000e+00</td>\n",
       "    </tr>\n",
       "    <tr>\n",
       "      <th>75%</th>\n",
       "      <td>4.710000e+02</td>\n",
       "      <td>0.000000e+00</td>\n",
       "      <td>1.340000e+02</td>\n",
       "      <td>1.230000e+02</td>\n",
       "      <td>0.000000e+00</td>\n",
       "      <td>0.000000e+00</td>\n",
       "      <td>1.100000e+01</td>\n",
       "      <td>6.400000e+01</td>\n",
       "      <td>2.000000e+00</td>\n",
       "      <td>0.000000e+00</td>\n",
       "    </tr>\n",
       "    <tr>\n",
       "      <th>max</th>\n",
       "      <td>6.566300e+04</td>\n",
       "      <td>9.830100e+04</td>\n",
       "      <td>9.830100e+04</td>\n",
       "      <td>9.830100e+04</td>\n",
       "      <td>6.758100e+04</td>\n",
       "      <td>9.284000e+04</td>\n",
       "      <td>6.554100e+04</td>\n",
       "      <td>6.559700e+04</td>\n",
       "      <td>6.578900e+04</td>\n",
       "      <td>9.830100e+04</td>\n",
       "    </tr>\n",
       "  </tbody>\n",
       "</table>\n",
       "</div>\n",
       "      <button class=\"colab-df-convert\" onclick=\"convertToInteractive('df-a76b92bf-e580-4e43-98bf-e8dfe744f7e0')\"\n",
       "              title=\"Convert this dataframe to an interactive table.\"\n",
       "              style=\"display:none;\">\n",
       "        \n",
       "  <svg xmlns=\"http://www.w3.org/2000/svg\" height=\"24px\"viewBox=\"0 0 24 24\"\n",
       "       width=\"24px\">\n",
       "    <path d=\"M0 0h24v24H0V0z\" fill=\"none\"/>\n",
       "    <path d=\"M18.56 5.44l.94 2.06.94-2.06 2.06-.94-2.06-.94-.94-2.06-.94 2.06-2.06.94zm-11 1L8.5 8.5l.94-2.06 2.06-.94-2.06-.94L8.5 2.5l-.94 2.06-2.06.94zm10 10l.94 2.06.94-2.06 2.06-.94-2.06-.94-.94-2.06-.94 2.06-2.06.94z\"/><path d=\"M17.41 7.96l-1.37-1.37c-.4-.4-.92-.59-1.43-.59-.52 0-1.04.2-1.43.59L10.3 9.45l-7.72 7.72c-.78.78-.78 2.05 0 2.83L4 21.41c.39.39.9.59 1.41.59.51 0 1.02-.2 1.41-.59l7.78-7.78 2.81-2.81c.8-.78.8-2.07 0-2.86zM5.41 20L4 18.59l7.72-7.72 1.47 1.35L5.41 20z\"/>\n",
       "  </svg>\n",
       "      </button>\n",
       "      \n",
       "  <style>\n",
       "    .colab-df-container {\n",
       "      display:flex;\n",
       "      flex-wrap:wrap;\n",
       "      gap: 12px;\n",
       "    }\n",
       "\n",
       "    .colab-df-convert {\n",
       "      background-color: #E8F0FE;\n",
       "      border: none;\n",
       "      border-radius: 50%;\n",
       "      cursor: pointer;\n",
       "      display: none;\n",
       "      fill: #1967D2;\n",
       "      height: 32px;\n",
       "      padding: 0 0 0 0;\n",
       "      width: 32px;\n",
       "    }\n",
       "\n",
       "    .colab-df-convert:hover {\n",
       "      background-color: #E2EBFA;\n",
       "      box-shadow: 0px 1px 2px rgba(60, 64, 67, 0.3), 0px 1px 3px 1px rgba(60, 64, 67, 0.15);\n",
       "      fill: #174EA6;\n",
       "    }\n",
       "\n",
       "    [theme=dark] .colab-df-convert {\n",
       "      background-color: #3B4455;\n",
       "      fill: #D2E3FC;\n",
       "    }\n",
       "\n",
       "    [theme=dark] .colab-df-convert:hover {\n",
       "      background-color: #434B5C;\n",
       "      box-shadow: 0px 1px 3px 1px rgba(0, 0, 0, 0.15);\n",
       "      filter: drop-shadow(0px 1px 2px rgba(0, 0, 0, 0.3));\n",
       "      fill: #FFFFFF;\n",
       "    }\n",
       "  </style>\n",
       "\n",
       "      <script>\n",
       "        const buttonEl =\n",
       "          document.querySelector('#df-a76b92bf-e580-4e43-98bf-e8dfe744f7e0 button.colab-df-convert');\n",
       "        buttonEl.style.display =\n",
       "          google.colab.kernel.accessAllowed ? 'block' : 'none';\n",
       "\n",
       "        async function convertToInteractive(key) {\n",
       "          const element = document.querySelector('#df-a76b92bf-e580-4e43-98bf-e8dfe744f7e0');\n",
       "          const dataTable =\n",
       "            await google.colab.kernel.invokeFunction('convertToInteractive',\n",
       "                                                     [key], {});\n",
       "          if (!dataTable) return;\n",
       "\n",
       "          const docLinkHtml = 'Like what you see? Visit the ' +\n",
       "            '<a target=\"_blank\" href=https://colab.research.google.com/notebooks/data_table.ipynb>data table notebook</a>'\n",
       "            + ' to learn more about interactive tables.';\n",
       "          element.innerHTML = '';\n",
       "          dataTable['output_type'] = 'display_data';\n",
       "          await google.colab.output.renderOutput(dataTable, element);\n",
       "          const docLink = document.createElement('div');\n",
       "          docLink.innerHTML = docLinkHtml;\n",
       "          element.appendChild(docLink);\n",
       "        }\n",
       "      </script>\n",
       "    </div>\n",
       "  </div>\n",
       "  "
      ],
      "text/plain": [
       "          Aggregate    Appliance1    Appliance2    Appliance3    Appliance4  \\\n",
       "count  8.244512e+06  8.062020e+06  8.063054e+06  8.054454e+06  8.079342e+06   \n",
       "mean   3.806739e+02  1.068457e+01  6.403073e+01  3.848839e+01  4.412760e+00   \n",
       "std    4.287898e+02  1.777035e+02  2.559318e+02  1.974058e+02  1.186911e+02   \n",
       "min    0.000000e+00  0.000000e+00  0.000000e+00  0.000000e+00  0.000000e+00   \n",
       "25%    1.940000e+02  0.000000e+00  0.000000e+00  0.000000e+00  0.000000e+00   \n",
       "50%    2.970000e+02  0.000000e+00  0.000000e+00  0.000000e+00  0.000000e+00   \n",
       "75%    4.710000e+02  0.000000e+00  1.340000e+02  1.230000e+02  0.000000e+00   \n",
       "max    6.566300e+04  9.830100e+04  9.830100e+04  9.830100e+04  6.758100e+04   \n",
       "\n",
       "         Appliance5    Appliance6    Appliance7    Appliance8    Appliance9  \n",
       "count  8.048886e+06  8.245914e+06  8.158148e+06  8.086510e+06  8.150872e+06  \n",
       "mean   1.160047e+01  1.443560e+01  2.389956e+01  9.582997e+00  1.095508e+01  \n",
       "std    2.518413e+02  5.630290e+01  7.992700e+01  1.399579e+02  1.687727e+02  \n",
       "min    0.000000e+00  0.000000e+00  0.000000e+00  0.000000e+00  0.000000e+00  \n",
       "25%    0.000000e+00  8.000000e+00  0.000000e+00  2.000000e+00  0.000000e+00  \n",
       "50%    0.000000e+00  9.000000e+00  0.000000e+00  2.000000e+00  0.000000e+00  \n",
       "75%    0.000000e+00  1.100000e+01  6.400000e+01  2.000000e+00  0.000000e+00  \n",
       "max    9.284000e+04  6.554100e+04  6.559700e+04  6.578900e+04  9.830100e+04  "
      ]
     },
     "execution_count": 5,
     "metadata": {},
     "output_type": "execute_result"
    }
   ],
   "source": [
    "df.describe()"
   ]
  },
  {
   "cell_type": "markdown",
   "metadata": {
    "id": "LS8zzsxXYjY2"
   },
   "source": [
    "filling Nan values with zeros (<2minutes_gaps) as the sampling rate is 8 s, let's take a limit of 10 and then we will drop the other nan\n"
   ]
  },
  {
   "cell_type": "code",
   "execution_count": null,
   "metadata": {
    "colab": {
     "base_uri": "https://localhost:8080/"
    },
    "id": "-mbAY36cYhoW",
    "outputId": "3afbb963-359b-4753-bb2c-a2044a33fbb1"
   },
   "outputs": [
    {
     "data": {
      "text/plain": [
       "(8354649, 10)"
      ]
     },
     "execution_count": 6,
     "metadata": {},
     "output_type": "execute_result"
    }
   ],
   "source": [
    "df=df.fillna(method='ffill',  limit=10)\n",
    "df = df.dropna()\n",
    "df.shape"
   ]
  },
  {
   "cell_type": "markdown",
   "metadata": {
    "id": "7LKkfx9rizIn"
   },
   "source": [
    "Resampling the data to 15 minutes"
   ]
  },
  {
   "cell_type": "code",
   "execution_count": null,
   "metadata": {
    "colab": {
     "base_uri": "https://localhost:8080/",
     "height": 424
    },
    "id": "DhuF1LFcUxcg",
    "outputId": "7fb81499-5500-4099-ab24-dfb6fcd11dbb"
   },
   "outputs": [
    {
     "data": {
      "text/html": [
       "\n",
       "  <div id=\"df-a2fe505d-611b-48ed-977d-c7804640cb08\">\n",
       "    <div class=\"colab-df-container\">\n",
       "      <div>\n",
       "<style scoped>\n",
       "    .dataframe tbody tr th:only-of-type {\n",
       "        vertical-align: middle;\n",
       "    }\n",
       "\n",
       "    .dataframe tbody tr th {\n",
       "        vertical-align: top;\n",
       "    }\n",
       "\n",
       "    .dataframe thead th {\n",
       "        text-align: right;\n",
       "    }\n",
       "</style>\n",
       "<table border=\"1\" class=\"dataframe\">\n",
       "  <thead>\n",
       "    <tr style=\"text-align: right;\">\n",
       "      <th></th>\n",
       "      <th>Aggregate</th>\n",
       "      <th>Appliance1</th>\n",
       "      <th>Appliance2</th>\n",
       "      <th>Appliance3</th>\n",
       "      <th>Appliance4</th>\n",
       "      <th>Appliance5</th>\n",
       "      <th>Appliance6</th>\n",
       "      <th>Appliance7</th>\n",
       "      <th>Appliance8</th>\n",
       "      <th>Appliance9</th>\n",
       "    </tr>\n",
       "  </thead>\n",
       "  <tbody>\n",
       "    <tr>\n",
       "      <th>2013-10-11 11:15:00</th>\n",
       "      <td>587.979167</td>\n",
       "      <td>52.083333</td>\n",
       "      <td>146.911458</td>\n",
       "      <td>0.000000</td>\n",
       "      <td>3.723958</td>\n",
       "      <td>0.0</td>\n",
       "      <td>102.619792</td>\n",
       "      <td>0.000000</td>\n",
       "      <td>2.0</td>\n",
       "      <td>0.0</td>\n",
       "    </tr>\n",
       "    <tr>\n",
       "      <th>2013-10-11 11:30:00</th>\n",
       "      <td>722.694631</td>\n",
       "      <td>40.520134</td>\n",
       "      <td>131.674497</td>\n",
       "      <td>99.157718</td>\n",
       "      <td>3.741611</td>\n",
       "      <td>0.0</td>\n",
       "      <td>102.805369</td>\n",
       "      <td>0.000000</td>\n",
       "      <td>2.0</td>\n",
       "      <td>0.0</td>\n",
       "    </tr>\n",
       "    <tr>\n",
       "      <th>2013-10-11 11:45:00</th>\n",
       "      <td>252.633333</td>\n",
       "      <td>0.000000</td>\n",
       "      <td>8.446667</td>\n",
       "      <td>0.000000</td>\n",
       "      <td>3.780000</td>\n",
       "      <td>0.0</td>\n",
       "      <td>102.386667</td>\n",
       "      <td>0.000000</td>\n",
       "      <td>2.0</td>\n",
       "      <td>0.0</td>\n",
       "    </tr>\n",
       "    <tr>\n",
       "      <th>2013-10-11 12:00:00</th>\n",
       "      <td>284.304636</td>\n",
       "      <td>0.000000</td>\n",
       "      <td>0.000000</td>\n",
       "      <td>0.000000</td>\n",
       "      <td>3.635762</td>\n",
       "      <td>0.0</td>\n",
       "      <td>102.033113</td>\n",
       "      <td>0.000000</td>\n",
       "      <td>2.0</td>\n",
       "      <td>0.0</td>\n",
       "    </tr>\n",
       "    <tr>\n",
       "      <th>2013-10-11 12:15:00</th>\n",
       "      <td>337.500000</td>\n",
       "      <td>0.000000</td>\n",
       "      <td>6.406667</td>\n",
       "      <td>84.920000</td>\n",
       "      <td>3.760000</td>\n",
       "      <td>0.0</td>\n",
       "      <td>102.630000</td>\n",
       "      <td>0.000000</td>\n",
       "      <td>2.0</td>\n",
       "      <td>0.0</td>\n",
       "    </tr>\n",
       "    <tr>\n",
       "      <th>...</th>\n",
       "      <td>...</td>\n",
       "      <td>...</td>\n",
       "      <td>...</td>\n",
       "      <td>...</td>\n",
       "      <td>...</td>\n",
       "      <td>...</td>\n",
       "      <td>...</td>\n",
       "      <td>...</td>\n",
       "      <td>...</td>\n",
       "      <td>...</td>\n",
       "    </tr>\n",
       "    <tr>\n",
       "      <th>2015-07-07 08:45:00</th>\n",
       "      <td>493.874016</td>\n",
       "      <td>0.000000</td>\n",
       "      <td>131.881890</td>\n",
       "      <td>39.779528</td>\n",
       "      <td>0.000000</td>\n",
       "      <td>0.0</td>\n",
       "      <td>0.000000</td>\n",
       "      <td>29.251969</td>\n",
       "      <td>2.0</td>\n",
       "      <td>0.0</td>\n",
       "    </tr>\n",
       "    <tr>\n",
       "      <th>2015-07-07 09:00:00</th>\n",
       "      <td>374.174603</td>\n",
       "      <td>9.500000</td>\n",
       "      <td>129.031746</td>\n",
       "      <td>51.857143</td>\n",
       "      <td>0.000000</td>\n",
       "      <td>0.0</td>\n",
       "      <td>0.000000</td>\n",
       "      <td>29.007937</td>\n",
       "      <td>2.0</td>\n",
       "      <td>0.0</td>\n",
       "    </tr>\n",
       "    <tr>\n",
       "      <th>2015-07-07 09:15:00</th>\n",
       "      <td>362.488189</td>\n",
       "      <td>51.519685</td>\n",
       "      <td>121.976378</td>\n",
       "      <td>0.102362</td>\n",
       "      <td>0.000000</td>\n",
       "      <td>0.0</td>\n",
       "      <td>0.000000</td>\n",
       "      <td>14.196850</td>\n",
       "      <td>2.0</td>\n",
       "      <td>0.0</td>\n",
       "    </tr>\n",
       "    <tr>\n",
       "      <th>2015-07-07 09:30:00</th>\n",
       "      <td>216.906977</td>\n",
       "      <td>7.201550</td>\n",
       "      <td>0.000000</td>\n",
       "      <td>86.891473</td>\n",
       "      <td>0.000000</td>\n",
       "      <td>0.0</td>\n",
       "      <td>0.000000</td>\n",
       "      <td>0.000000</td>\n",
       "      <td>2.0</td>\n",
       "      <td>0.0</td>\n",
       "    </tr>\n",
       "    <tr>\n",
       "      <th>2015-07-07 09:45:00</th>\n",
       "      <td>95.871560</td>\n",
       "      <td>0.000000</td>\n",
       "      <td>0.000000</td>\n",
       "      <td>0.000000</td>\n",
       "      <td>0.000000</td>\n",
       "      <td>0.0</td>\n",
       "      <td>0.000000</td>\n",
       "      <td>0.000000</td>\n",
       "      <td>2.0</td>\n",
       "      <td>0.0</td>\n",
       "    </tr>\n",
       "  </tbody>\n",
       "</table>\n",
       "<p>53362 rows × 10 columns</p>\n",
       "</div>\n",
       "      <button class=\"colab-df-convert\" onclick=\"convertToInteractive('df-a2fe505d-611b-48ed-977d-c7804640cb08')\"\n",
       "              title=\"Convert this dataframe to an interactive table.\"\n",
       "              style=\"display:none;\">\n",
       "        \n",
       "  <svg xmlns=\"http://www.w3.org/2000/svg\" height=\"24px\"viewBox=\"0 0 24 24\"\n",
       "       width=\"24px\">\n",
       "    <path d=\"M0 0h24v24H0V0z\" fill=\"none\"/>\n",
       "    <path d=\"M18.56 5.44l.94 2.06.94-2.06 2.06-.94-2.06-.94-.94-2.06-.94 2.06-2.06.94zm-11 1L8.5 8.5l.94-2.06 2.06-.94-2.06-.94L8.5 2.5l-.94 2.06-2.06.94zm10 10l.94 2.06.94-2.06 2.06-.94-2.06-.94-.94-2.06-.94 2.06-2.06.94z\"/><path d=\"M17.41 7.96l-1.37-1.37c-.4-.4-.92-.59-1.43-.59-.52 0-1.04.2-1.43.59L10.3 9.45l-7.72 7.72c-.78.78-.78 2.05 0 2.83L4 21.41c.39.39.9.59 1.41.59.51 0 1.02-.2 1.41-.59l7.78-7.78 2.81-2.81c.8-.78.8-2.07 0-2.86zM5.41 20L4 18.59l7.72-7.72 1.47 1.35L5.41 20z\"/>\n",
       "  </svg>\n",
       "      </button>\n",
       "      \n",
       "  <style>\n",
       "    .colab-df-container {\n",
       "      display:flex;\n",
       "      flex-wrap:wrap;\n",
       "      gap: 12px;\n",
       "    }\n",
       "\n",
       "    .colab-df-convert {\n",
       "      background-color: #E8F0FE;\n",
       "      border: none;\n",
       "      border-radius: 50%;\n",
       "      cursor: pointer;\n",
       "      display: none;\n",
       "      fill: #1967D2;\n",
       "      height: 32px;\n",
       "      padding: 0 0 0 0;\n",
       "      width: 32px;\n",
       "    }\n",
       "\n",
       "    .colab-df-convert:hover {\n",
       "      background-color: #E2EBFA;\n",
       "      box-shadow: 0px 1px 2px rgba(60, 64, 67, 0.3), 0px 1px 3px 1px rgba(60, 64, 67, 0.15);\n",
       "      fill: #174EA6;\n",
       "    }\n",
       "\n",
       "    [theme=dark] .colab-df-convert {\n",
       "      background-color: #3B4455;\n",
       "      fill: #D2E3FC;\n",
       "    }\n",
       "\n",
       "    [theme=dark] .colab-df-convert:hover {\n",
       "      background-color: #434B5C;\n",
       "      box-shadow: 0px 1px 3px 1px rgba(0, 0, 0, 0.15);\n",
       "      filter: drop-shadow(0px 1px 2px rgba(0, 0, 0, 0.3));\n",
       "      fill: #FFFFFF;\n",
       "    }\n",
       "  </style>\n",
       "\n",
       "      <script>\n",
       "        const buttonEl =\n",
       "          document.querySelector('#df-a2fe505d-611b-48ed-977d-c7804640cb08 button.colab-df-convert');\n",
       "        buttonEl.style.display =\n",
       "          google.colab.kernel.accessAllowed ? 'block' : 'none';\n",
       "\n",
       "        async function convertToInteractive(key) {\n",
       "          const element = document.querySelector('#df-a2fe505d-611b-48ed-977d-c7804640cb08');\n",
       "          const dataTable =\n",
       "            await google.colab.kernel.invokeFunction('convertToInteractive',\n",
       "                                                     [key], {});\n",
       "          if (!dataTable) return;\n",
       "\n",
       "          const docLinkHtml = 'Like what you see? Visit the ' +\n",
       "            '<a target=\"_blank\" href=https://colab.research.google.com/notebooks/data_table.ipynb>data table notebook</a>'\n",
       "            + ' to learn more about interactive tables.';\n",
       "          element.innerHTML = '';\n",
       "          dataTable['output_type'] = 'display_data';\n",
       "          await google.colab.output.renderOutput(dataTable, element);\n",
       "          const docLink = document.createElement('div');\n",
       "          docLink.innerHTML = docLinkHtml;\n",
       "          element.appendChild(docLink);\n",
       "        }\n",
       "      </script>\n",
       "    </div>\n",
       "  </div>\n",
       "  "
      ],
      "text/plain": [
       "                      Aggregate  Appliance1  Appliance2  Appliance3  \\\n",
       "2013-10-11 11:15:00  587.979167   52.083333  146.911458    0.000000   \n",
       "2013-10-11 11:30:00  722.694631   40.520134  131.674497   99.157718   \n",
       "2013-10-11 11:45:00  252.633333    0.000000    8.446667    0.000000   \n",
       "2013-10-11 12:00:00  284.304636    0.000000    0.000000    0.000000   \n",
       "2013-10-11 12:15:00  337.500000    0.000000    6.406667   84.920000   \n",
       "...                         ...         ...         ...         ...   \n",
       "2015-07-07 08:45:00  493.874016    0.000000  131.881890   39.779528   \n",
       "2015-07-07 09:00:00  374.174603    9.500000  129.031746   51.857143   \n",
       "2015-07-07 09:15:00  362.488189   51.519685  121.976378    0.102362   \n",
       "2015-07-07 09:30:00  216.906977    7.201550    0.000000   86.891473   \n",
       "2015-07-07 09:45:00   95.871560    0.000000    0.000000    0.000000   \n",
       "\n",
       "                     Appliance4  Appliance5  Appliance6  Appliance7  \\\n",
       "2013-10-11 11:15:00    3.723958         0.0  102.619792    0.000000   \n",
       "2013-10-11 11:30:00    3.741611         0.0  102.805369    0.000000   \n",
       "2013-10-11 11:45:00    3.780000         0.0  102.386667    0.000000   \n",
       "2013-10-11 12:00:00    3.635762         0.0  102.033113    0.000000   \n",
       "2013-10-11 12:15:00    3.760000         0.0  102.630000    0.000000   \n",
       "...                         ...         ...         ...         ...   \n",
       "2015-07-07 08:45:00    0.000000         0.0    0.000000   29.251969   \n",
       "2015-07-07 09:00:00    0.000000         0.0    0.000000   29.007937   \n",
       "2015-07-07 09:15:00    0.000000         0.0    0.000000   14.196850   \n",
       "2015-07-07 09:30:00    0.000000         0.0    0.000000    0.000000   \n",
       "2015-07-07 09:45:00    0.000000         0.0    0.000000    0.000000   \n",
       "\n",
       "                     Appliance8  Appliance9  \n",
       "2013-10-11 11:15:00         2.0         0.0  \n",
       "2013-10-11 11:30:00         2.0         0.0  \n",
       "2013-10-11 11:45:00         2.0         0.0  \n",
       "2013-10-11 12:00:00         2.0         0.0  \n",
       "2013-10-11 12:15:00         2.0         0.0  \n",
       "...                         ...         ...  \n",
       "2015-07-07 08:45:00         2.0         0.0  \n",
       "2015-07-07 09:00:00         2.0         0.0  \n",
       "2015-07-07 09:15:00         2.0         0.0  \n",
       "2015-07-07 09:30:00         2.0         0.0  \n",
       "2015-07-07 09:45:00         2.0         0.0  \n",
       "\n",
       "[53362 rows x 10 columns]"
      ]
     },
     "execution_count": 7,
     "metadata": {},
     "output_type": "execute_result"
    }
   ],
   "source": [
    "df=df.resample(\"15Min\").mean()\n",
    "df = df.dropna()\n",
    "df"
   ]
  },
  {
   "cell_type": "markdown",
   "metadata": {
    "id": "qjZG-z7gdjwq"
   },
   "source": [
    "## Exploratory Data Analysis (EDA)"
   ]
  },
  {
   "cell_type": "code",
   "execution_count": null,
   "metadata": {
    "colab": {
     "base_uri": "https://localhost:8080/"
    },
    "id": "MKCw8u6vdoQ5",
    "outputId": "fadc5e66-2f4c-4737-8f9a-d7bc6591307b"
   },
   "outputs": [
    {
     "name": "stdout",
     "output_type": "stream",
     "text": [
      "House data contain 594 days from 2013-10-11 to 2015-07-07.\n",
      "['2013-10-11', '2013-10-12', '2013-10-13', '2013-10-14', '2013-10-15', '2013-10-16', '2013-10-17', '2013-10-18', '2013-10-19', '2013-10-20', '2013-10-21', '2013-10-22', '2013-10-23', '2013-10-24', '2013-10-25', '2013-10-26', '2013-10-27', '2013-10-28', '2013-10-29', '2013-10-30', '2013-10-31', '2013-11-01', '2013-11-02', '2013-11-03', '2013-11-04', '2013-11-05', '2013-11-06', '2013-11-07', '2013-11-08', '2013-11-09', '2013-11-10', '2013-11-11', '2013-11-12', '2013-11-13', '2013-11-14', '2013-11-15', '2013-11-16', '2013-11-17', '2013-11-18', '2013-11-19', '2013-11-20', '2013-11-21', '2013-11-22', '2013-11-23', '2013-11-24', '2013-11-25', '2013-11-26', '2013-11-27', '2013-11-28', '2013-11-29', '2013-11-30', '2013-12-01', '2013-12-02', '2013-12-03', '2013-12-04', '2013-12-05', '2013-12-06', '2013-12-07', '2013-12-08', '2013-12-09', '2013-12-10', '2013-12-11', '2013-12-12', '2013-12-13', '2013-12-14', '2013-12-15', '2013-12-16', '2013-12-17', '2013-12-18', '2013-12-19', '2013-12-20', '2013-12-21', '2013-12-22', '2013-12-23', '2013-12-24', '2013-12-25', '2013-12-26', '2013-12-27', '2013-12-28', '2013-12-29', '2013-12-30', '2013-12-31', '2014-01-01', '2014-01-02', '2014-01-03', '2014-01-04', '2014-01-05', '2014-01-06', '2014-01-07', '2014-01-08', '2014-01-09', '2014-01-10', '2014-01-11', '2014-01-12', '2014-01-13', '2014-01-14', '2014-01-15', '2014-01-16', '2014-01-17', '2014-01-18', '2014-01-19', '2014-01-20', '2014-01-21', '2014-01-22', '2014-01-23', '2014-01-24', '2014-01-25', '2014-01-26', '2014-01-27', '2014-01-28', '2014-01-29', '2014-01-30', '2014-01-31', '2014-02-01', '2014-02-02', '2014-02-03', '2014-02-04', '2014-02-05', '2014-02-06', '2014-02-07', '2014-02-08', '2014-02-09', '2014-02-10', '2014-02-11', '2014-02-12', '2014-02-13', '2014-02-14', '2014-02-15', '2014-02-16', '2014-02-17', '2014-02-18', '2014-02-19', '2014-02-20', '2014-02-21', '2014-02-22', '2014-02-24', '2014-02-26', '2014-02-27', '2014-02-28', '2014-03-01', '2014-03-02', '2014-03-03', '2014-03-04', '2014-03-05', '2014-03-06', '2014-03-07', '2014-03-08', '2014-03-09', '2014-03-10', '2014-03-11', '2014-03-12', '2014-03-13', '2014-03-14', '2014-03-15', '2014-03-16', '2014-03-17', '2014-03-18', '2014-03-19', '2014-04-02', '2014-04-03', '2014-04-04', '2014-04-05', '2014-04-06', '2014-04-07', '2014-04-08', '2014-04-09', '2014-04-10', '2014-04-11', '2014-04-12', '2014-04-13', '2014-04-14', '2014-04-15', '2014-04-16', '2014-04-17', '2014-04-18', '2014-04-19', '2014-04-20', '2014-04-21', '2014-04-22', '2014-04-23', '2014-04-24', '2014-04-25', '2014-04-26', '2014-04-27', '2014-04-28', '2014-04-29', '2014-04-30', '2014-05-01', '2014-05-02', '2014-05-03', '2014-05-04', '2014-05-05', '2014-05-06', '2014-05-07', '2014-05-08', '2014-05-09', '2014-05-10', '2014-05-11', '2014-05-12', '2014-05-13', '2014-05-14', '2014-05-15', '2014-05-16', '2014-05-17', '2014-05-18', '2014-05-19', '2014-05-20', '2014-05-21', '2014-05-22', '2014-05-23', '2014-05-24', '2014-05-25', '2014-05-26', '2014-05-27', '2014-05-28', '2014-05-29', '2014-05-30', '2014-05-31', '2014-06-01', '2014-06-02', '2014-06-03', '2014-06-04', '2014-06-05', '2014-06-06', '2014-06-07', '2014-06-08', '2014-06-09', '2014-06-10', '2014-06-11', '2014-06-12', '2014-06-13', '2014-06-14', '2014-06-15', '2014-06-16', '2014-06-17', '2014-06-18', '2014-06-19', '2014-06-20', '2014-06-21', '2014-06-22', '2014-06-23', '2014-06-24', '2014-06-25', '2014-06-26', '2014-06-27', '2014-06-28', '2014-06-29', '2014-06-30', '2014-07-01', '2014-07-02', '2014-07-03', '2014-07-04', '2014-07-05', '2014-07-06', '2014-07-07', '2014-07-08', '2014-07-09', '2014-07-10', '2014-07-11', '2014-07-12', '2014-07-13', '2014-07-14', '2014-07-15', '2014-07-16', '2014-07-17', '2014-07-18', '2014-07-19', '2014-07-20', '2014-07-21', '2014-07-22', '2014-07-23', '2014-07-24', '2014-07-25', '2014-07-26', '2014-07-27', '2014-07-28', '2014-07-29', '2014-07-30', '2014-07-31', '2014-08-01', '2014-08-02', '2014-08-03', '2014-08-04', '2014-08-05', '2014-08-06', '2014-08-07', '2014-08-08', '2014-08-09', '2014-08-10', '2014-08-11', '2014-08-12', '2014-08-13', '2014-08-14', '2014-08-15', '2014-08-16', '2014-08-17', '2014-08-18', '2014-08-19', '2014-08-20', '2014-08-21', '2014-08-22', '2014-08-23', '2014-08-24', '2014-08-25', '2014-08-26', '2014-08-27', '2014-08-28', '2014-08-29', '2014-08-30', '2014-09-01', '2014-09-02', '2014-09-03', '2014-09-04', '2014-09-05', '2014-09-06', '2014-09-07', '2014-09-08', '2014-09-09', '2014-09-10', '2014-09-11', '2014-09-12', '2014-09-13', '2014-09-14', '2014-09-15', '2014-09-16', '2014-09-17', '2014-09-18', '2014-09-19', '2014-09-20', '2014-09-21', '2014-09-22', '2014-09-23', '2014-09-24', '2014-09-25', '2014-09-26', '2014-09-27', '2014-09-28', '2014-09-29', '2014-09-30', '2014-10-01', '2014-10-02', '2014-10-03', '2014-10-04', '2014-10-05', '2014-10-06', '2014-10-07', '2014-10-08', '2014-10-09', '2014-10-10', '2014-10-11', '2014-10-12', '2014-10-13', '2014-10-14', '2014-10-15', '2014-10-16', '2014-10-17', '2014-10-18', '2014-10-19', '2014-10-20', '2014-10-21', '2014-10-22', '2014-10-23', '2014-10-24', '2014-10-25', '2014-10-26', '2014-10-27', '2014-10-28', '2014-10-29', '2014-10-30', '2014-10-31', '2014-11-01', '2014-11-02', '2014-11-03', '2014-11-04', '2014-11-05', '2014-11-06', '2014-11-07', '2014-11-08', '2014-11-09', '2014-11-10', '2014-11-11', '2014-11-12', '2014-11-13', '2014-11-14', '2014-11-15', '2014-11-16', '2014-11-17', '2014-11-18', '2014-11-19', '2014-11-20', '2014-11-21', '2014-11-22', '2014-11-23', '2014-11-24', '2014-11-25', '2014-11-26', '2014-11-27', '2014-11-28', '2014-11-29', '2014-11-30', '2014-12-01', '2014-12-02', '2014-12-03', '2014-12-04', '2014-12-05', '2014-12-06', '2014-12-07', '2014-12-08', '2014-12-09', '2014-12-10', '2014-12-11', '2014-12-12', '2014-12-13', '2014-12-14', '2014-12-15', '2014-12-16', '2014-12-17', '2014-12-18', '2014-12-19', '2014-12-20', '2014-12-21', '2014-12-22', '2014-12-23', '2014-12-24', '2014-12-25', '2014-12-26', '2014-12-27', '2014-12-28', '2014-12-29', '2014-12-30', '2014-12-31', '2015-01-01', '2015-01-02', '2015-01-03', '2015-01-04', '2015-01-05', '2015-01-06', '2015-01-07', '2015-01-08', '2015-01-09', '2015-01-10', '2015-01-11', '2015-01-12', '2015-01-13', '2015-01-14', '2015-01-15', '2015-01-16', '2015-01-17', '2015-01-18', '2015-01-19', '2015-01-20', '2015-01-21', '2015-01-22', '2015-01-23', '2015-01-24', '2015-01-25', '2015-01-26', '2015-01-27', '2015-01-28', '2015-01-29', '2015-01-30', '2015-01-31', '2015-02-01', '2015-02-02', '2015-02-03', '2015-02-04', '2015-02-05', '2015-02-06', '2015-02-07', '2015-02-08', '2015-02-09', '2015-02-10', '2015-02-11', '2015-02-12', '2015-02-13', '2015-02-14', '2015-02-15', '2015-02-16', '2015-02-17', '2015-02-18', '2015-02-19', '2015-02-20', '2015-02-21', '2015-02-22', '2015-02-23', '2015-02-24', '2015-02-25', '2015-02-26', '2015-02-27', '2015-02-28', '2015-03-01', '2015-03-02', '2015-03-03', '2015-03-04', '2015-03-05', '2015-03-06', '2015-03-07', '2015-03-08', '2015-03-09', '2015-03-10', '2015-03-11', '2015-03-12', '2015-03-13', '2015-03-14', '2015-03-15', '2015-03-16', '2015-03-17', '2015-03-18', '2015-03-19', '2015-03-20', '2015-03-21', '2015-03-22', '2015-03-24', '2015-03-25', '2015-03-26', '2015-03-27', '2015-03-28', '2015-03-29', '2015-03-30', '2015-03-31', '2015-04-01', '2015-04-02', '2015-04-03', '2015-04-07', '2015-04-08', '2015-04-09', '2015-04-10', '2015-04-11', '2015-04-12', '2015-04-13', '2015-04-14', '2015-04-15', '2015-04-16', '2015-04-17', '2015-04-18', '2015-04-19', '2015-04-20', '2015-04-21', '2015-04-22', '2015-04-23', '2015-04-24', '2015-04-25', '2015-04-26', '2015-04-27', '2015-04-28', '2015-04-29', '2015-04-30', '2015-05-01', '2015-05-02', '2015-05-03', '2015-05-04', '2015-05-05', '2015-05-06', '2015-05-07', '2015-05-08', '2015-05-09', '2015-05-10', '2015-05-19', '2015-05-20', '2015-05-21', '2015-05-22', '2015-05-23', '2015-05-24', '2015-05-25', '2015-05-26', '2015-05-27', '2015-05-28', '2015-05-29', '2015-05-30', '2015-05-31', '2015-06-01', '2015-06-05', '2015-06-06', '2015-06-10', '2015-06-18', '2015-06-19', '2015-06-20', '2015-06-21', '2015-06-22', '2015-06-23', '2015-06-24', '2015-06-25', '2015-06-26', '2015-06-27', '2015-06-28', '2015-06-29', '2015-06-30', '2015-07-01', '2015-07-02', '2015-07-03', '2015-07-04', '2015-07-05', '2015-07-06', '2015-07-07'] \n",
      "\n"
     ]
    }
   ],
   "source": [
    "dates = {}\n",
    "for i in range(1,2):\n",
    "    dates[i] = [str(time)[:10] for time in df.index.values]\n",
    "    dates[i] = sorted(list(set(dates[i])))\n",
    "    print('House data contain {1} days from {2} to {3}.'.format(i,len(dates[i]),dates[i][0], dates[i][-1]))\n",
    "    print(dates[i], '\\n')"
   ]
  },
  {
   "cell_type": "code",
   "execution_count": null,
   "metadata": {
    "colab": {
     "base_uri": "https://localhost:8080/",
     "height": 724
    },
    "id": "IWRdC7Galj0p",
    "outputId": "f9cbdbf4-e51c-43a4-93df-d85a91e7bb9b"
   },
   "outputs": [
    {
     "data": {
      "image/png": "[encoded data removed]",
      "text/plain": [
       "<Figure size 1200x720 with 10 Axes>"
      ]
     },
     "metadata": {
      "needs_background": "light"
     },
     "output_type": "display_data"
    }
   ],
   "source": [
    "fig, axes = plt.subplots(nrows=5, ncols=2, dpi=120, figsize=(10,6))\n",
    "for i, ax in enumerate(axes.flatten()):\n",
    "    data = df[df.columns[i]]\n",
    "    ax.plot(data, color='red', linewidth=1)\n",
    "    # Decorations\n",
    "    ax.set_title(df.columns[i])\n",
    "    ax.xaxis.set_ticks_position('none')\n",
    "    ax.yaxis.set_ticks_position('none')\n",
    "    ax.spines[\"top\"].set_alpha(0)\n",
    "    ax.tick_params(labelsize=6)\n",
    "\n",
    "plt.tight_layout();"
   ]
  },
  {
   "cell_type": "markdown",
   "metadata": {
    "id": "uXi71NzgnSrA"
   },
   "source": [
    "We will focus on three appliances ( Appliance3:Fridge-Freezer, Appliance 4:Washing Machine_1 and appliance 8:Microwave). We will drop the rest"
   ]
  },
  {
   "cell_type": "code",
   "execution_count": null,
   "metadata": {
    "colab": {
     "base_uri": "https://localhost:8080/",
     "height": 424
    },
    "id": "D2ebgkXEmjP3",
    "outputId": "c85d9892-08aa-4aba-cf67-a305794f209d"
   },
   "outputs": [
    {
     "data": {
      "text/html": [
       "\n",
       "  <div id=\"df-020b66d0-c0a4-4521-acdf-3a8723b378ee\">\n",
       "    <div class=\"colab-df-container\">\n",
       "      <div>\n",
       "<style scoped>\n",
       "    .dataframe tbody tr th:only-of-type {\n",
       "        vertical-align: middle;\n",
       "    }\n",
       "\n",
       "    .dataframe tbody tr th {\n",
       "        vertical-align: top;\n",
       "    }\n",
       "\n",
       "    .dataframe thead th {\n",
       "        text-align: right;\n",
       "    }\n",
       "</style>\n",
       "<table border=\"1\" class=\"dataframe\">\n",
       "  <thead>\n",
       "    <tr style=\"text-align: right;\">\n",
       "      <th></th>\n",
       "      <th>Aggregate</th>\n",
       "      <th>Appliance3</th>\n",
       "      <th>Appliance4</th>\n",
       "      <th>Appliance8</th>\n",
       "    </tr>\n",
       "  </thead>\n",
       "  <tbody>\n",
       "    <tr>\n",
       "      <th>2013-10-11 11:15:00</th>\n",
       "      <td>587.979167</td>\n",
       "      <td>0.000000</td>\n",
       "      <td>3.723958</td>\n",
       "      <td>2.0</td>\n",
       "    </tr>\n",
       "    <tr>\n",
       "      <th>2013-10-11 11:30:00</th>\n",
       "      <td>722.694631</td>\n",
       "      <td>99.157718</td>\n",
       "      <td>3.741611</td>\n",
       "      <td>2.0</td>\n",
       "    </tr>\n",
       "    <tr>\n",
       "      <th>2013-10-11 11:45:00</th>\n",
       "      <td>252.633333</td>\n",
       "      <td>0.000000</td>\n",
       "      <td>3.780000</td>\n",
       "      <td>2.0</td>\n",
       "    </tr>\n",
       "    <tr>\n",
       "      <th>2013-10-11 12:00:00</th>\n",
       "      <td>284.304636</td>\n",
       "      <td>0.000000</td>\n",
       "      <td>3.635762</td>\n",
       "      <td>2.0</td>\n",
       "    </tr>\n",
       "    <tr>\n",
       "      <th>2013-10-11 12:15:00</th>\n",
       "      <td>337.500000</td>\n",
       "      <td>84.920000</td>\n",
       "      <td>3.760000</td>\n",
       "      <td>2.0</td>\n",
       "    </tr>\n",
       "    <tr>\n",
       "      <th>...</th>\n",
       "      <td>...</td>\n",
       "      <td>...</td>\n",
       "      <td>...</td>\n",
       "      <td>...</td>\n",
       "    </tr>\n",
       "    <tr>\n",
       "      <th>2015-07-07 08:45:00</th>\n",
       "      <td>493.874016</td>\n",
       "      <td>39.779528</td>\n",
       "      <td>0.000000</td>\n",
       "      <td>2.0</td>\n",
       "    </tr>\n",
       "    <tr>\n",
       "      <th>2015-07-07 09:00:00</th>\n",
       "      <td>374.174603</td>\n",
       "      <td>51.857143</td>\n",
       "      <td>0.000000</td>\n",
       "      <td>2.0</td>\n",
       "    </tr>\n",
       "    <tr>\n",
       "      <th>2015-07-07 09:15:00</th>\n",
       "      <td>362.488189</td>\n",
       "      <td>0.102362</td>\n",
       "      <td>0.000000</td>\n",
       "      <td>2.0</td>\n",
       "    </tr>\n",
       "    <tr>\n",
       "      <th>2015-07-07 09:30:00</th>\n",
       "      <td>216.906977</td>\n",
       "      <td>86.891473</td>\n",
       "      <td>0.000000</td>\n",
       "      <td>2.0</td>\n",
       "    </tr>\n",
       "    <tr>\n",
       "      <th>2015-07-07 09:45:00</th>\n",
       "      <td>95.871560</td>\n",
       "      <td>0.000000</td>\n",
       "      <td>0.000000</td>\n",
       "      <td>2.0</td>\n",
       "    </tr>\n",
       "  </tbody>\n",
       "</table>\n",
       "<p>53362 rows × 4 columns</p>\n",
       "</div>\n",
       "      <button class=\"colab-df-convert\" onclick=\"convertToInteractive('df-020b66d0-c0a4-4521-acdf-3a8723b378ee')\"\n",
       "              title=\"Convert this dataframe to an interactive table.\"\n",
       "              style=\"display:none;\">\n",
       "        \n",
       "  <svg xmlns=\"http://www.w3.org/2000/svg\" height=\"24px\"viewBox=\"0 0 24 24\"\n",
       "       width=\"24px\">\n",
       "    <path d=\"M0 0h24v24H0V0z\" fill=\"none\"/>\n",
       "    <path d=\"M18.56 5.44l.94 2.06.94-2.06 2.06-.94-2.06-.94-.94-2.06-.94 2.06-2.06.94zm-11 1L8.5 8.5l.94-2.06 2.06-.94-2.06-.94L8.5 2.5l-.94 2.06-2.06.94zm10 10l.94 2.06.94-2.06 2.06-.94-2.06-.94-.94-2.06-.94 2.06-2.06.94z\"/><path d=\"M17.41 7.96l-1.37-1.37c-.4-.4-.92-.59-1.43-.59-.52 0-1.04.2-1.43.59L10.3 9.45l-7.72 7.72c-.78.78-.78 2.05 0 2.83L4 21.41c.39.39.9.59 1.41.59.51 0 1.02-.2 1.41-.59l7.78-7.78 2.81-2.81c.8-.78.8-2.07 0-2.86zM5.41 20L4 18.59l7.72-7.72 1.47 1.35L5.41 20z\"/>\n",
       "  </svg>\n",
       "      </button>\n",
       "      \n",
       "  <style>\n",
       "    .colab-df-container {\n",
       "      display:flex;\n",
       "      flex-wrap:wrap;\n",
       "      gap: 12px;\n",
       "    }\n",
       "\n",
       "    .colab-df-convert {\n",
       "      background-color: #E8F0FE;\n",
       "      border: none;\n",
       "      border-radius: 50%;\n",
       "      cursor: pointer;\n",
       "      display: none;\n",
       "      fill: #1967D2;\n",
       "      height: 32px;\n",
       "      padding: 0 0 0 0;\n",
       "      width: 32px;\n",
       "    }\n",
       "\n",
       "    .colab-df-convert:hover {\n",
       "      background-color: #E2EBFA;\n",
       "      box-shadow: 0px 1px 2px rgba(60, 64, 67, 0.3), 0px 1px 3px 1px rgba(60, 64, 67, 0.15);\n",
       "      fill: #174EA6;\n",
       "    }\n",
       "\n",
       "    [theme=dark] .colab-df-convert {\n",
       "      background-color: #3B4455;\n",
       "      fill: #D2E3FC;\n",
       "    }\n",
       "\n",
       "    [theme=dark] .colab-df-convert:hover {\n",
       "      background-color: #434B5C;\n",
       "      box-shadow: 0px 1px 3px 1px rgba(0, 0, 0, 0.15);\n",
       "      filter: drop-shadow(0px 1px 2px rgba(0, 0, 0, 0.3));\n",
       "      fill: #FFFFFF;\n",
       "    }\n",
       "  </style>\n",
       "\n",
       "      <script>\n",
       "        const buttonEl =\n",
       "          document.querySelector('#df-020b66d0-c0a4-4521-acdf-3a8723b378ee button.colab-df-convert');\n",
       "        buttonEl.style.display =\n",
       "          google.colab.kernel.accessAllowed ? 'block' : 'none';\n",
       "\n",
       "        async function convertToInteractive(key) {\n",
       "          const element = document.querySelector('#df-020b66d0-c0a4-4521-acdf-3a8723b378ee');\n",
       "          const dataTable =\n",
       "            await google.colab.kernel.invokeFunction('convertToInteractive',\n",
       "                                                     [key], {});\n",
       "          if (!dataTable) return;\n",
       "\n",
       "          const docLinkHtml = 'Like what you see? Visit the ' +\n",
       "            '<a target=\"_blank\" href=https://colab.research.google.com/notebooks/data_table.ipynb>data table notebook</a>'\n",
       "            + ' to learn more about interactive tables.';\n",
       "          element.innerHTML = '';\n",
       "          dataTable['output_type'] = 'display_data';\n",
       "          await google.colab.output.renderOutput(dataTable, element);\n",
       "          const docLink = document.createElement('div');\n",
       "          docLink.innerHTML = docLinkHtml;\n",
       "          element.appendChild(docLink);\n",
       "        }\n",
       "      </script>\n",
       "    </div>\n",
       "  </div>\n",
       "  "
      ],
      "text/plain": [
       "                      Aggregate  Appliance3  Appliance4  Appliance8\n",
       "2013-10-11 11:15:00  587.979167    0.000000    3.723958         2.0\n",
       "2013-10-11 11:30:00  722.694631   99.157718    3.741611         2.0\n",
       "2013-10-11 11:45:00  252.633333    0.000000    3.780000         2.0\n",
       "2013-10-11 12:00:00  284.304636    0.000000    3.635762         2.0\n",
       "2013-10-11 12:15:00  337.500000   84.920000    3.760000         2.0\n",
       "...                         ...         ...         ...         ...\n",
       "2015-07-07 08:45:00  493.874016   39.779528    0.000000         2.0\n",
       "2015-07-07 09:00:00  374.174603   51.857143    0.000000         2.0\n",
       "2015-07-07 09:15:00  362.488189    0.102362    0.000000         2.0\n",
       "2015-07-07 09:30:00  216.906977   86.891473    0.000000         2.0\n",
       "2015-07-07 09:45:00   95.871560    0.000000    0.000000         2.0\n",
       "\n",
       "[53362 rows x 4 columns]"
      ]
     },
     "execution_count": 10,
     "metadata": {},
     "output_type": "execute_result"
    }
   ],
   "source": [
    "df.drop(['Appliance1','Appliance2','Appliance5','Appliance6','Appliance7','Appliance9'], axis=1, inplace=True)\n",
    "df"
   ]
  },
  {
   "cell_type": "code",
   "execution_count": null,
   "metadata": {
    "colab": {
     "base_uri": "https://localhost:8080/",
     "height": 424
    },
    "id": "Twe3MF3OpIDZ",
    "outputId": "8f89ee5a-8196-4169-a26f-68fb70bbee9e"
   },
   "outputs": [
    {
     "data": {
      "text/html": [
       "\n",
       "  <div id=\"df-c0f5962e-6398-4e42-a251-3966a87b975e\">\n",
       "    <div class=\"colab-df-container\">\n",
       "      <div>\n",
       "<style scoped>\n",
       "    .dataframe tbody tr th:only-of-type {\n",
       "        vertical-align: middle;\n",
       "    }\n",
       "\n",
       "    .dataframe tbody tr th {\n",
       "        vertical-align: top;\n",
       "    }\n",
       "\n",
       "    .dataframe thead th {\n",
       "        text-align: right;\n",
       "    }\n",
       "</style>\n",
       "<table border=\"1\" class=\"dataframe\">\n",
       "  <thead>\n",
       "    <tr style=\"text-align: right;\">\n",
       "      <th></th>\n",
       "      <th>Aggregate</th>\n",
       "      <th>fridge_freezer</th>\n",
       "      <th>washing_machine_1</th>\n",
       "      <th>microwave</th>\n",
       "    </tr>\n",
       "  </thead>\n",
       "  <tbody>\n",
       "    <tr>\n",
       "      <th>2013-10-11 11:15:00</th>\n",
       "      <td>587.979167</td>\n",
       "      <td>0.000000</td>\n",
       "      <td>3.723958</td>\n",
       "      <td>2.0</td>\n",
       "    </tr>\n",
       "    <tr>\n",
       "      <th>2013-10-11 11:30:00</th>\n",
       "      <td>722.694631</td>\n",
       "      <td>99.157718</td>\n",
       "      <td>3.741611</td>\n",
       "      <td>2.0</td>\n",
       "    </tr>\n",
       "    <tr>\n",
       "      <th>2013-10-11 11:45:00</th>\n",
       "      <td>252.633333</td>\n",
       "      <td>0.000000</td>\n",
       "      <td>3.780000</td>\n",
       "      <td>2.0</td>\n",
       "    </tr>\n",
       "    <tr>\n",
       "      <th>2013-10-11 12:00:00</th>\n",
       "      <td>284.304636</td>\n",
       "      <td>0.000000</td>\n",
       "      <td>3.635762</td>\n",
       "      <td>2.0</td>\n",
       "    </tr>\n",
       "    <tr>\n",
       "      <th>2013-10-11 12:15:00</th>\n",
       "      <td>337.500000</td>\n",
       "      <td>84.920000</td>\n",
       "      <td>3.760000</td>\n",
       "      <td>2.0</td>\n",
       "    </tr>\n",
       "    <tr>\n",
       "      <th>...</th>\n",
       "      <td>...</td>\n",
       "      <td>...</td>\n",
       "      <td>...</td>\n",
       "      <td>...</td>\n",
       "    </tr>\n",
       "    <tr>\n",
       "      <th>2015-07-07 08:45:00</th>\n",
       "      <td>493.874016</td>\n",
       "      <td>39.779528</td>\n",
       "      <td>0.000000</td>\n",
       "      <td>2.0</td>\n",
       "    </tr>\n",
       "    <tr>\n",
       "      <th>2015-07-07 09:00:00</th>\n",
       "      <td>374.174603</td>\n",
       "      <td>51.857143</td>\n",
       "      <td>0.000000</td>\n",
       "      <td>2.0</td>\n",
       "    </tr>\n",
       "    <tr>\n",
       "      <th>2015-07-07 09:15:00</th>\n",
       "      <td>362.488189</td>\n",
       "      <td>0.102362</td>\n",
       "      <td>0.000000</td>\n",
       "      <td>2.0</td>\n",
       "    </tr>\n",
       "    <tr>\n",
       "      <th>2015-07-07 09:30:00</th>\n",
       "      <td>216.906977</td>\n",
       "      <td>86.891473</td>\n",
       "      <td>0.000000</td>\n",
       "      <td>2.0</td>\n",
       "    </tr>\n",
       "    <tr>\n",
       "      <th>2015-07-07 09:45:00</th>\n",
       "      <td>95.871560</td>\n",
       "      <td>0.000000</td>\n",
       "      <td>0.000000</td>\n",
       "      <td>2.0</td>\n",
       "    </tr>\n",
       "  </tbody>\n",
       "</table>\n",
       "<p>53362 rows × 4 columns</p>\n",
       "</div>\n",
       "      <button class=\"colab-df-convert\" onclick=\"convertToInteractive('df-c0f5962e-6398-4e42-a251-3966a87b975e')\"\n",
       "              title=\"Convert this dataframe to an interactive table.\"\n",
       "              style=\"display:none;\">\n",
       "        \n",
       "  <svg xmlns=\"http://www.w3.org/2000/svg\" height=\"24px\"viewBox=\"0 0 24 24\"\n",
       "       width=\"24px\">\n",
       "    <path d=\"M0 0h24v24H0V0z\" fill=\"none\"/>\n",
       "    <path d=\"M18.56 5.44l.94 2.06.94-2.06 2.06-.94-2.06-.94-.94-2.06-.94 2.06-2.06.94zm-11 1L8.5 8.5l.94-2.06 2.06-.94-2.06-.94L8.5 2.5l-.94 2.06-2.06.94zm10 10l.94 2.06.94-2.06 2.06-.94-2.06-.94-.94-2.06-.94 2.06-2.06.94z\"/><path d=\"M17.41 7.96l-1.37-1.37c-.4-.4-.92-.59-1.43-.59-.52 0-1.04.2-1.43.59L10.3 9.45l-7.72 7.72c-.78.78-.78 2.05 0 2.83L4 21.41c.39.39.9.59 1.41.59.51 0 1.02-.2 1.41-.59l7.78-7.78 2.81-2.81c.8-.78.8-2.07 0-2.86zM5.41 20L4 18.59l7.72-7.72 1.47 1.35L5.41 20z\"/>\n",
       "  </svg>\n",
       "      </button>\n",
       "      \n",
       "  <style>\n",
       "    .colab-df-container {\n",
       "      display:flex;\n",
       "      flex-wrap:wrap;\n",
       "      gap: 12px;\n",
       "    }\n",
       "\n",
       "    .colab-df-convert {\n",
       "      background-color: #E8F0FE;\n",
       "      border: none;\n",
       "      border-radius: 50%;\n",
       "      cursor: pointer;\n",
       "      display: none;\n",
       "      fill: #1967D2;\n",
       "      height: 32px;\n",
       "      padding: 0 0 0 0;\n",
       "      width: 32px;\n",
       "    }\n",
       "\n",
       "    .colab-df-convert:hover {\n",
       "      background-color: #E2EBFA;\n",
       "      box-shadow: 0px 1px 2px rgba(60, 64, 67, 0.3), 0px 1px 3px 1px rgba(60, 64, 67, 0.15);\n",
       "      fill: #174EA6;\n",
       "    }\n",
       "\n",
       "    [theme=dark] .colab-df-convert {\n",
       "      background-color: #3B4455;\n",
       "      fill: #D2E3FC;\n",
       "    }\n",
       "\n",
       "    [theme=dark] .colab-df-convert:hover {\n",
       "      background-color: #434B5C;\n",
       "      box-shadow: 0px 1px 3px 1px rgba(0, 0, 0, 0.15);\n",
       "      filter: drop-shadow(0px 1px 2px rgba(0, 0, 0, 0.3));\n",
       "      fill: #FFFFFF;\n",
       "    }\n",
       "  </style>\n",
       "\n",
       "      <script>\n",
       "        const buttonEl =\n",
       "          document.querySelector('#df-c0f5962e-6398-4e42-a251-3966a87b975e button.colab-df-convert');\n",
       "        buttonEl.style.display =\n",
       "          google.colab.kernel.accessAllowed ? 'block' : 'none';\n",
       "\n",
       "        async function convertToInteractive(key) {\n",
       "          const element = document.querySelector('#df-c0f5962e-6398-4e42-a251-3966a87b975e');\n",
       "          const dataTable =\n",
       "            await google.colab.kernel.invokeFunction('convertToInteractive',\n",
       "                                                     [key], {});\n",
       "          if (!dataTable) return;\n",
       "\n",
       "          const docLinkHtml = 'Like what you see? Visit the ' +\n",
       "            '<a target=\"_blank\" href=https://colab.research.google.com/notebooks/data_table.ipynb>data table notebook</a>'\n",
       "            + ' to learn more about interactive tables.';\n",
       "          element.innerHTML = '';\n",
       "          dataTable['output_type'] = 'display_data';\n",
       "          await google.colab.output.renderOutput(dataTable, element);\n",
       "          const docLink = document.createElement('div');\n",
       "          docLink.innerHTML = docLinkHtml;\n",
       "          element.appendChild(docLink);\n",
       "        }\n",
       "      </script>\n",
       "    </div>\n",
       "  </div>\n",
       "  "
      ],
      "text/plain": [
       "                      Aggregate  fridge_freezer  washing_machine_1  microwave\n",
       "2013-10-11 11:15:00  587.979167        0.000000           3.723958        2.0\n",
       "2013-10-11 11:30:00  722.694631       99.157718           3.741611        2.0\n",
       "2013-10-11 11:45:00  252.633333        0.000000           3.780000        2.0\n",
       "2013-10-11 12:00:00  284.304636        0.000000           3.635762        2.0\n",
       "2013-10-11 12:15:00  337.500000       84.920000           3.760000        2.0\n",
       "...                         ...             ...                ...        ...\n",
       "2015-07-07 08:45:00  493.874016       39.779528           0.000000        2.0\n",
       "2015-07-07 09:00:00  374.174603       51.857143           0.000000        2.0\n",
       "2015-07-07 09:15:00  362.488189        0.102362           0.000000        2.0\n",
       "2015-07-07 09:30:00  216.906977       86.891473           0.000000        2.0\n",
       "2015-07-07 09:45:00   95.871560        0.000000           0.000000        2.0\n",
       "\n",
       "[53362 rows x 4 columns]"
      ]
     },
     "execution_count": 11,
     "metadata": {},
     "output_type": "execute_result"
    }
   ],
   "source": [
    "df.rename(columns = {'Appliance3':'fridge_freezer', 'Appliance4':'washing_machine_1', 'Appliance8':'microwave'}, inplace = True)\n",
    "df"
   ]
  },
  {
   "cell_type": "markdown",
   "metadata": {
    "id": "n7kbHVL_qclw"
   },
   "source": [
    " Setting Individual Appliance readings to 0 Watts if above 4000 Watts"
   ]
  },
  {
   "cell_type": "code",
   "execution_count": null,
   "metadata": {
    "id": "jrqECPLPp2jJ"
   },
   "outputs": [],
   "source": [
    "df['fridge_freezer'][df['fridge_freezer'] > 4000] = 0\n",
    "df['washing_machine_1'][df['washing_machine_1'] > 4000] = 0\n",
    "df['microwave'][df['microwave'] > 4000] = 0\n"
   ]
  },
  {
   "cell_type": "code",
   "execution_count": null,
   "metadata": {
    "colab": {
     "base_uri": "https://localhost:8080/",
     "height": 724
    },
    "id": "1WM2V9P4qV4Q",
    "outputId": "349aab27-9a91-4226-e781-771475c828ba"
   },
   "outputs": [
    {
     "data": {
      "image/png": "[encoded data removed]",
      "text/plain": [
       "<Figure size 1200x720 with 4 Axes>"
      ]
     },
     "metadata": {
      "needs_background": "light"
     },
     "output_type": "display_data"
    }
   ],
   "source": [
    "fig, axes = plt.subplots(nrows=2, ncols=2, dpi=120, figsize=(10,6))\n",
    "for i, ax in enumerate(axes.flatten()):\n",
    "    data = df[df.columns[i]]\n",
    "    ax.plot(data, color='red', linewidth=1)\n",
    "    # Decorations\n",
    "    ax.set_title(df.columns[i])\n",
    "    ax.xaxis.set_ticks_position('none')\n",
    "    ax.yaxis.set_ticks_position('none')\n",
    "    ax.spines[\"top\"].set_alpha(0)\n",
    "    ax.tick_params(labelsize=6)\n",
    "\n",
    "plt.tight_layout();"
   ]
  },
  {
   "cell_type": "markdown",
   "metadata": {
    "id": "A5rBG9JvdsFt"
   },
   "source": [
    "## Feature Engineering"
   ]
  },
  {
   "cell_type": "code",
   "execution_count": null,
   "metadata": {
    "id": "LYlDbkEuc-I9"
   },
   "outputs": [],
   "source": []
  },
  {
   "cell_type": "markdown",
   "metadata": {
    "id": "02_1iS-ssYJJ"
   },
   "source": [
    "Assuming appliances are ON when their power consumption exceeds 50 watts"
   ]
  },
  {
   "cell_type": "code",
   "execution_count": null,
   "metadata": {
    "colab": {
     "base_uri": "https://localhost:8080/",
     "height": 424
    },
    "id": "3M15z4Z7dv1q",
    "outputId": "aadf256d-85a5-45d6-9ef7-01f2ecec5e83"
   },
   "outputs": [
    {
     "data": {
      "text/html": [
       "\n",
       "  <div id=\"df-0d19bc26-ac41-4dc7-b54e-7b002cd4573c\">\n",
       "    <div class=\"colab-df-container\">\n",
       "      <div>\n",
       "<style scoped>\n",
       "    .dataframe tbody tr th:only-of-type {\n",
       "        vertical-align: middle;\n",
       "    }\n",
       "\n",
       "    .dataframe tbody tr th {\n",
       "        vertical-align: top;\n",
       "    }\n",
       "\n",
       "    .dataframe thead th {\n",
       "        text-align: right;\n",
       "    }\n",
       "</style>\n",
       "<table border=\"1\" class=\"dataframe\">\n",
       "  <thead>\n",
       "    <tr style=\"text-align: right;\">\n",
       "      <th></th>\n",
       "      <th>Aggregate</th>\n",
       "      <th>fridge_freezer</th>\n",
       "      <th>washing_machine_1</th>\n",
       "      <th>microwave</th>\n",
       "      <th>label_fridge_freezer</th>\n",
       "      <th>label_washing_machine_1</th>\n",
       "      <th>label_microwave</th>\n",
       "    </tr>\n",
       "  </thead>\n",
       "  <tbody>\n",
       "    <tr>\n",
       "      <th>2013-10-11 11:15:00</th>\n",
       "      <td>587.979167</td>\n",
       "      <td>0.000000</td>\n",
       "      <td>3.723958</td>\n",
       "      <td>2.0</td>\n",
       "      <td>0.0</td>\n",
       "      <td>0.0</td>\n",
       "      <td>0.0</td>\n",
       "    </tr>\n",
       "    <tr>\n",
       "      <th>2013-10-11 11:30:00</th>\n",
       "      <td>722.694631</td>\n",
       "      <td>99.157718</td>\n",
       "      <td>3.741611</td>\n",
       "      <td>2.0</td>\n",
       "      <td>1.0</td>\n",
       "      <td>0.0</td>\n",
       "      <td>0.0</td>\n",
       "    </tr>\n",
       "    <tr>\n",
       "      <th>2013-10-11 11:45:00</th>\n",
       "      <td>252.633333</td>\n",
       "      <td>0.000000</td>\n",
       "      <td>3.780000</td>\n",
       "      <td>2.0</td>\n",
       "      <td>0.0</td>\n",
       "      <td>0.0</td>\n",
       "      <td>0.0</td>\n",
       "    </tr>\n",
       "    <tr>\n",
       "      <th>2013-10-11 12:00:00</th>\n",
       "      <td>284.304636</td>\n",
       "      <td>0.000000</td>\n",
       "      <td>3.635762</td>\n",
       "      <td>2.0</td>\n",
       "      <td>0.0</td>\n",
       "      <td>0.0</td>\n",
       "      <td>0.0</td>\n",
       "    </tr>\n",
       "    <tr>\n",
       "      <th>2013-10-11 12:15:00</th>\n",
       "      <td>337.500000</td>\n",
       "      <td>84.920000</td>\n",
       "      <td>3.760000</td>\n",
       "      <td>2.0</td>\n",
       "      <td>1.0</td>\n",
       "      <td>0.0</td>\n",
       "      <td>0.0</td>\n",
       "    </tr>\n",
       "    <tr>\n",
       "      <th>...</th>\n",
       "      <td>...</td>\n",
       "      <td>...</td>\n",
       "      <td>...</td>\n",
       "      <td>...</td>\n",
       "      <td>...</td>\n",
       "      <td>...</td>\n",
       "      <td>...</td>\n",
       "    </tr>\n",
       "    <tr>\n",
       "      <th>2015-07-07 08:45:00</th>\n",
       "      <td>493.874016</td>\n",
       "      <td>39.779528</td>\n",
       "      <td>0.000000</td>\n",
       "      <td>2.0</td>\n",
       "      <td>0.0</td>\n",
       "      <td>0.0</td>\n",
       "      <td>0.0</td>\n",
       "    </tr>\n",
       "    <tr>\n",
       "      <th>2015-07-07 09:00:00</th>\n",
       "      <td>374.174603</td>\n",
       "      <td>51.857143</td>\n",
       "      <td>0.000000</td>\n",
       "      <td>2.0</td>\n",
       "      <td>1.0</td>\n",
       "      <td>0.0</td>\n",
       "      <td>0.0</td>\n",
       "    </tr>\n",
       "    <tr>\n",
       "      <th>2015-07-07 09:15:00</th>\n",
       "      <td>362.488189</td>\n",
       "      <td>0.102362</td>\n",
       "      <td>0.000000</td>\n",
       "      <td>2.0</td>\n",
       "      <td>0.0</td>\n",
       "      <td>0.0</td>\n",
       "      <td>0.0</td>\n",
       "    </tr>\n",
       "    <tr>\n",
       "      <th>2015-07-07 09:30:00</th>\n",
       "      <td>216.906977</td>\n",
       "      <td>86.891473</td>\n",
       "      <td>0.000000</td>\n",
       "      <td>2.0</td>\n",
       "      <td>1.0</td>\n",
       "      <td>0.0</td>\n",
       "      <td>0.0</td>\n",
       "    </tr>\n",
       "    <tr>\n",
       "      <th>2015-07-07 09:45:00</th>\n",
       "      <td>95.871560</td>\n",
       "      <td>0.000000</td>\n",
       "      <td>0.000000</td>\n",
       "      <td>2.0</td>\n",
       "      <td>0.0</td>\n",
       "      <td>0.0</td>\n",
       "      <td>0.0</td>\n",
       "    </tr>\n",
       "  </tbody>\n",
       "</table>\n",
       "<p>53362 rows × 7 columns</p>\n",
       "</div>\n",
       "      <button class=\"colab-df-convert\" onclick=\"convertToInteractive('df-0d19bc26-ac41-4dc7-b54e-7b002cd4573c')\"\n",
       "              title=\"Convert this dataframe to an interactive table.\"\n",
       "              style=\"display:none;\">\n",
       "        \n",
       "  <svg xmlns=\"http://www.w3.org/2000/svg\" height=\"24px\"viewBox=\"0 0 24 24\"\n",
       "       width=\"24px\">\n",
       "    <path d=\"M0 0h24v24H0V0z\" fill=\"none\"/>\n",
       "    <path d=\"M18.56 5.44l.94 2.06.94-2.06 2.06-.94-2.06-.94-.94-2.06-.94 2.06-2.06.94zm-11 1L8.5 8.5l.94-2.06 2.06-.94-2.06-.94L8.5 2.5l-.94 2.06-2.06.94zm10 10l.94 2.06.94-2.06 2.06-.94-2.06-.94-.94-2.06-.94 2.06-2.06.94z\"/><path d=\"M17.41 7.96l-1.37-1.37c-.4-.4-.92-.59-1.43-.59-.52 0-1.04.2-1.43.59L10.3 9.45l-7.72 7.72c-.78.78-.78 2.05 0 2.83L4 21.41c.39.39.9.59 1.41.59.51 0 1.02-.2 1.41-.59l7.78-7.78 2.81-2.81c.8-.78.8-2.07 0-2.86zM5.41 20L4 18.59l7.72-7.72 1.47 1.35L5.41 20z\"/>\n",
       "  </svg>\n",
       "      </button>\n",
       "      \n",
       "  <style>\n",
       "    .colab-df-container {\n",
       "      display:flex;\n",
       "      flex-wrap:wrap;\n",
       "      gap: 12px;\n",
       "    }\n",
       "\n",
       "    .colab-df-convert {\n",
       "      background-color: #E8F0FE;\n",
       "      border: none;\n",
       "      border-radius: 50%;\n",
       "      cursor: pointer;\n",
       "      display: none;\n",
       "      fill: #1967D2;\n",
       "      height: 32px;\n",
       "      padding: 0 0 0 0;\n",
       "      width: 32px;\n",
       "    }\n",
       "\n",
       "    .colab-df-convert:hover {\n",
       "      background-color: #E2EBFA;\n",
       "      box-shadow: 0px 1px 2px rgba(60, 64, 67, 0.3), 0px 1px 3px 1px rgba(60, 64, 67, 0.15);\n",
       "      fill: #174EA6;\n",
       "    }\n",
       "\n",
       "    [theme=dark] .colab-df-convert {\n",
       "      background-color: #3B4455;\n",
       "      fill: #D2E3FC;\n",
       "    }\n",
       "\n",
       "    [theme=dark] .colab-df-convert:hover {\n",
       "      background-color: #434B5C;\n",
       "      box-shadow: 0px 1px 3px 1px rgba(0, 0, 0, 0.15);\n",
       "      filter: drop-shadow(0px 1px 2px rgba(0, 0, 0, 0.3));\n",
       "      fill: #FFFFFF;\n",
       "    }\n",
       "  </style>\n",
       "\n",
       "      <script>\n",
       "        const buttonEl =\n",
       "          document.querySelector('#df-0d19bc26-ac41-4dc7-b54e-7b002cd4573c button.colab-df-convert');\n",
       "        buttonEl.style.display =\n",
       "          google.colab.kernel.accessAllowed ? 'block' : 'none';\n",
       "\n",
       "        async function convertToInteractive(key) {\n",
       "          const element = document.querySelector('#df-0d19bc26-ac41-4dc7-b54e-7b002cd4573c');\n",
       "          const dataTable =\n",
       "            await google.colab.kernel.invokeFunction('convertToInteractive',\n",
       "                                                     [key], {});\n",
       "          if (!dataTable) return;\n",
       "\n",
       "          const docLinkHtml = 'Like what you see? Visit the ' +\n",
       "            '<a target=\"_blank\" href=https://colab.research.google.com/notebooks/data_table.ipynb>data table notebook</a>'\n",
       "            + ' to learn more about interactive tables.';\n",
       "          element.innerHTML = '';\n",
       "          dataTable['output_type'] = 'display_data';\n",
       "          await google.colab.output.renderOutput(dataTable, element);\n",
       "          const docLink = document.createElement('div');\n",
       "          docLink.innerHTML = docLinkHtml;\n",
       "          element.appendChild(docLink);\n",
       "        }\n",
       "      </script>\n",
       "    </div>\n",
       "  </div>\n",
       "  "
      ],
      "text/plain": [
       "                      Aggregate  fridge_freezer  washing_machine_1  microwave  \\\n",
       "2013-10-11 11:15:00  587.979167        0.000000           3.723958        2.0   \n",
       "2013-10-11 11:30:00  722.694631       99.157718           3.741611        2.0   \n",
       "2013-10-11 11:45:00  252.633333        0.000000           3.780000        2.0   \n",
       "2013-10-11 12:00:00  284.304636        0.000000           3.635762        2.0   \n",
       "2013-10-11 12:15:00  337.500000       84.920000           3.760000        2.0   \n",
       "...                         ...             ...                ...        ...   \n",
       "2015-07-07 08:45:00  493.874016       39.779528           0.000000        2.0   \n",
       "2015-07-07 09:00:00  374.174603       51.857143           0.000000        2.0   \n",
       "2015-07-07 09:15:00  362.488189        0.102362           0.000000        2.0   \n",
       "2015-07-07 09:30:00  216.906977       86.891473           0.000000        2.0   \n",
       "2015-07-07 09:45:00   95.871560        0.000000           0.000000        2.0   \n",
       "\n",
       "                     label_fridge_freezer  label_washing_machine_1  \\\n",
       "2013-10-11 11:15:00                   0.0                      0.0   \n",
       "2013-10-11 11:30:00                   1.0                      0.0   \n",
       "2013-10-11 11:45:00                   0.0                      0.0   \n",
       "2013-10-11 12:00:00                   0.0                      0.0   \n",
       "2013-10-11 12:15:00                   1.0                      0.0   \n",
       "...                                   ...                      ...   \n",
       "2015-07-07 08:45:00                   0.0                      0.0   \n",
       "2015-07-07 09:00:00                   1.0                      0.0   \n",
       "2015-07-07 09:15:00                   0.0                      0.0   \n",
       "2015-07-07 09:30:00                   1.0                      0.0   \n",
       "2015-07-07 09:45:00                   0.0                      0.0   \n",
       "\n",
       "                     label_microwave  \n",
       "2013-10-11 11:15:00              0.0  \n",
       "2013-10-11 11:30:00              0.0  \n",
       "2013-10-11 11:45:00              0.0  \n",
       "2013-10-11 12:00:00              0.0  \n",
       "2013-10-11 12:15:00              0.0  \n",
       "...                              ...  \n",
       "2015-07-07 08:45:00              0.0  \n",
       "2015-07-07 09:00:00              0.0  \n",
       "2015-07-07 09:15:00              0.0  \n",
       "2015-07-07 09:30:00              0.0  \n",
       "2015-07-07 09:45:00              0.0  \n",
       "\n",
       "[53362 rows x 7 columns]"
      ]
     },
     "execution_count": 14,
     "metadata": {},
     "output_type": "execute_result"
    }
   ],
   "source": [
    "df.loc[df['fridge_freezer'] > 50, 'label_fridge_freezer'] = 1\n",
    "df.loc[df['fridge_freezer'] < 50, 'label_fridge_freezer'] = 0\n",
    "\n",
    "df.loc[df['washing_machine_1'] > 50, 'label_washing_machine_1'] = 1\n",
    "df.loc[df['washing_machine_1'] < 50, 'label_washing_machine_1'] = 0\n",
    "\n",
    "df.loc[df['microwave'] > 50, 'label_microwave'] = 1\n",
    "df.loc[df['microwave'] < 50, 'label_microwave'] = 0\n",
    "\n",
    "df\n"
   ]
  },
  {
   "cell_type": "code",
   "execution_count": null,
   "metadata": {
    "id": "7b6S1_mK54JB"
   },
   "outputs": [],
   "source": [
    "df = df.dropna()"
   ]
  },
  {
   "cell_type": "markdown",
   "metadata": {
    "id": "tvBLZh6Bu64Y"
   },
   "source": [
    "Separate data into train (80%--475 days) and  test data (20%--118 days)"
   ]
  },
  {
   "cell_type": "code",
   "execution_count": null,
   "metadata": {
    "colab": {
     "base_uri": "https://localhost:8080/"
    },
    "id": "_hXHqzIau6Q4",
    "outputId": "4bde7728-708a-46ba-a988-78cf6008587b"
   },
   "outputs": [
    {
     "name": "stdout",
     "output_type": "stream",
     "text": [
      "df_train.shape:  (42858, 7)\n",
      "df_test.shape:  (10504, 7)\n"
     ]
    }
   ],
   "source": [
    "df1_train = df.loc[:dates[1][475]]\n",
    "df1_test = df.loc[dates[1][476]:]\n",
    "print('df_train.shape: ', df1_train.shape)\n",
    "print('df_test.shape: ', df1_test.shape)"
   ]
  },
  {
   "cell_type": "markdown",
   "metadata": {
    "id": "rZIglJl7zuBJ"
   },
   "source": [
    "We will use a sliding window"
   ]
  },
  {
   "cell_type": "code",
   "execution_count": null,
   "metadata": {
    "id": "pCArNcfJzuYo"
   },
   "outputs": [],
   "source": [
    "def window(yourArray, winSize):\n",
    "    sliding_windows = []                                    \n",
    "    for i in range(0, yourArray.shape[0]-winSize+1):\n",
    "        window = yourArray[i:i+winSize,:].reshape((-1,1)) # each individual window\n",
    "        sliding_windows.append(window)\n",
    "    result = np.hstack(sliding_windows)\n",
    "    return result"
   ]
  },
  {
   "cell_type": "code",
   "execution_count": null,
   "metadata": {
    "id": "DNdSkgpnwLAQ"
   },
   "outputs": [],
   "source": [
    "X_train = df1_train[['Aggregate']].values\n",
    "X_test = df1_test[['Aggregate']].values\n",
    "\n",
    "#fridge_freezer target for ON/OFF classification and power estimation\n",
    "y_fridge_classification_train = df1_train['label_fridge_freezer'].values\n",
    "y_fridge_classification_test = df1_test['label_fridge_freezer'].values\n",
    "\n",
    "y_fridge_estimation_train = df1_train['fridge_freezer'].values\n",
    "y_fridge_estimation_test = df1_test['fridge_freezer'].values\n",
    "\n",
    "\n",
    "# washing machine target for ON/OFF classification and power estimation\n",
    "y_wm_classification_train = df1_train['label_washing_machine_1'].values\n",
    "y_wm_classification_test = df1_test['label_washing_machine_1'].values\n",
    "\n",
    "y_wm_estimation_train = df1_train['washing_machine_1'].values\n",
    "y_wm_estimation_test = df1_test['washing_machine_1'].values\n",
    "\n",
    "#Microwave target for ON/OFF classification and power estimation\n",
    "y_microwave_classification_train = df1_train['label_microwave'].values\n",
    "y_microwave_classification_test = df1_test['label_microwave'].values\n",
    "\n",
    "y_microwave_estimation_train = df1_train['microwave'].values\n",
    "y_microwave_estimation_test = df1_test['microwave'].values"
   ]
  },
  {
   "cell_type": "markdown",
   "metadata": {
    "id": "cZy09UN9d0aD"
   },
   "source": [
    "## Modelling"
   ]
  },
  {
   "cell_type": "markdown",
   "metadata": {
    "id": "CDKHbuUI1SYB"
   },
   "source": [
    "Model 1 fridge status classification. Let's use SVM classification model"
   ]
  },
  {
   "cell_type": "code",
   "execution_count": null,
   "metadata": {
    "colab": {
     "base_uri": "https://localhost:8080/"
    },
    "id": "rpm7Me3kKSdC",
    "outputId": "4a841a4c-005b-4764-e88c-d7898bda5deb"
   },
   "outputs": [
    {
     "name": "stdout",
     "output_type": "stream",
     "text": [
      "(42849, 10) (42849,) (10495, 10) (10495,)\n"
     ]
    }
   ],
   "source": [
    "Xtrain1= (window(X_train, 10)).transpose()\n",
    "Xtest1= (window(X_test, 10)).transpose()\n",
    "y_fridge_classification_train = y_fridge_classification_train[0:Xtrain1.shape[0]]\n",
    "y_fridge_classification_test = y_fridge_classification_test[0:Xtest1.shape[0]]\n",
    "print(Xtrain1.shape, y_fridge_classification_train.shape, Xtest1.shape, y_fridge_classification_test.shape)"
   ]
  },
  {
   "cell_type": "code",
   "execution_count": null,
   "metadata": {
    "id": "9N3jWrQUd92x"
   },
   "outputs": [],
   "source": [
    "model1 = svm.SVC()"
   ]
  },
  {
   "cell_type": "code",
   "execution_count": null,
   "metadata": {
    "colab": {
     "base_uri": "https://localhost:8080/"
    },
    "id": "LBGZRw6I19ai",
    "outputId": "6a9c684a-0c44-4e3e-c6d5-3ab40a9cc6fd"
   },
   "outputs": [
    {
     "data": {
      "text/plain": [
       "SVC()"
      ]
     },
     "execution_count": 21,
     "metadata": {},
     "output_type": "execute_result"
    }
   ],
   "source": [
    "model1.fit(Xtrain1, y_fridge_classification_train)"
   ]
  },
  {
   "cell_type": "code",
   "execution_count": null,
   "metadata": {
    "id": "yxtVm7uD6UlJ"
   },
   "outputs": [],
   "source": [
    "y_fridge_classif_predict = model1.predict(Xtest1).reshape(-1)"
   ]
  },
  {
   "cell_type": "markdown",
   "metadata": {
    "id": "RDQURqX88ndh"
   },
   "source": [
    "Model 2 fridge power estimation"
   ]
  },
  {
   "cell_type": "markdown",
   "metadata": {
    "id": "z6oHtfxKF7jx"
   },
   "source": [
    "sliding window size = 10"
   ]
  },
  {
   "cell_type": "code",
   "execution_count": null,
   "metadata": {
    "id": "gjamDXpVGA0R"
   },
   "outputs": [],
   "source": [
    "Xtrain= (window(X_train, 10)).transpose()\n",
    "Xtest= (window(X_test, 10)).transpose()"
   ]
  },
  {
   "cell_type": "code",
   "execution_count": null,
   "metadata": {
    "colab": {
     "base_uri": "https://localhost:8080/"
    },
    "id": "W4NIrbFm84bo",
    "outputId": "9409b990-d4b1-4f3c-ff80-920510777322"
   },
   "outputs": [
    {
     "name": "stdout",
     "output_type": "stream",
     "text": [
      "(42849, 1, 10) (42849,) (10495, 1, 10) (10495,)\n"
     ]
    }
   ],
   "source": [
    "X_train2 = np.reshape(Xtrain, (Xtrain.shape[0], 1, Xtrain.shape[1]))\n",
    "X_test2 = np.reshape(Xtest, (Xtest.shape[0], 1, Xtest.shape[1]))\n",
    "y_fridge_estimation_train = y_fridge_estimation_train[0:X_train2.shape[0]]\n",
    "y_fridge_estimation_test = y_fridge_estimation_test[0:X_test2.shape[0]]\n",
    "print(X_train2.shape, y_fridge_estimation_train.shape, X_test2.shape, y_fridge_estimation_test.shape)"
   ]
  },
  {
   "cell_type": "markdown",
   "metadata": {
    "id": "o9YakSMEE04J"
   },
   "source": [
    "Let's use  bidirectional LSTM for power estimation"
   ]
  },
  {
   "cell_type": "code",
   "execution_count": null,
   "metadata": {
    "colab": {
     "base_uri": "https://localhost:8080/"
    },
    "id": "OhmzWdjlEnx5",
    "outputId": "479f64c2-791b-45fc-cf37-b84a8a26f8c5"
   },
   "outputs": [
    {
     "name": "stderr",
     "output_type": "stream",
     "text": [
      "WARNING:tensorflow:Layer lstm will not use cuDNN kernels since it doesn't meet the criteria. It will use a generic GPU kernel as fallback when running on GPU.\n",
      "WARNING:tensorflow:Layer lstm will not use cuDNN kernels since it doesn't meet the criteria. It will use a generic GPU kernel as fallback when running on GPU.\n",
      "WARNING:tensorflow:Layer lstm will not use cuDNN kernels since it doesn't meet the criteria. It will use a generic GPU kernel as fallback when running on GPU.\n",
      "WARNING:tensorflow:Layer lstm_1 will not use cuDNN kernels since it doesn't meet the criteria. It will use a generic GPU kernel as fallback when running on GPU.\n",
      "WARNING:tensorflow:Layer lstm_1 will not use cuDNN kernels since it doesn't meet the criteria. It will use a generic GPU kernel as fallback when running on GPU.\n",
      "WARNING:tensorflow:Layer lstm_1 will not use cuDNN kernels since it doesn't meet the criteria. It will use a generic GPU kernel as fallback when running on GPU.\n"
     ]
    },
    {
     "name": "stdout",
     "output_type": "stream",
     "text": [
      "Model: \"sequential\"\n",
      "_________________________________________________________________\n",
      " Layer (type)                Output Shape              Param #   \n",
      "=================================================================\n",
      " bidirectional (Bidirectiona  (None, 1, 128)           38400     \n",
      " l)                                                              \n",
      "                                                                 \n",
      " dropout (Dropout)           (None, 1, 128)            0         \n",
      "                                                                 \n",
      " bidirectional_1 (Bidirectio  (None, 256)              263168    \n",
      " nal)                                                            \n",
      "                                                                 \n",
      " dropout_1 (Dropout)         (None, 256)               0         \n",
      "                                                                 \n",
      " dense (Dense)               (None, 1024)              263168    \n",
      "                                                                 \n",
      " dense_1 (Dense)             (None, 1)                 1025      \n",
      "                                                                 \n",
      "=================================================================\n",
      "Total params: 565,761\n",
      "Trainable params: 565,761\n",
      "Non-trainable params: 0\n",
      "_________________________________________________________________\n"
     ]
    }
   ],
   "source": [
    "def build_lstm_model(layers):\n",
    "    model2 = Sequential()\n",
    "    for i in range(len(layers) - 2):\n",
    "        model2.add(Bidirectional(LSTM(layers[i+1],\n",
    "            input_dim=layers[i],\n",
    "            activation=\"relu\",\n",
    "            return_sequences= True if i < len(layers) - 3 else False )))\n",
    "        model2.add(Dropout(0.3))\n",
    "        \n",
    "    model2.add(Dense(1024,activation=\"relu\"))\n",
    "    model2.add(Dense(layers[-1]))\n",
    "    model2.build(input_shape=[None, 1, 10])\n",
    "    model2.summary()\n",
    "    return model2\n",
    "\n",
    "model2 = build_lstm_model([10,64,128,1])"
   ]
  },
  {
   "cell_type": "code",
   "execution_count": null,
   "metadata": {
    "colab": {
     "base_uri": "https://localhost:8080/"
    },
    "id": "XfsH515WFHNp",
    "outputId": "e6eda26e-bbc6-4bc7-93bc-04fce65c5931"
   },
   "outputs": [
    {
     "name": "stdout",
     "output_type": "stream",
     "text": [
      "Epoch 1/100\n"
     ]
    },
    {
     "name": "stderr",
     "output_type": "stream",
     "text": [
      "/usr/local/lib/python3.7/dist-packages/keras/optimizer_v2/adam.py:105: UserWarning: The `lr` argument is deprecated, use `learning_rate` instead.\n",
      "  super(Adam, self).__init__(name, **kwargs)\n"
     ]
    },
    {
     "name": "stdout",
     "output_type": "stream",
     "text": [
      "59/59 [==============================] - 6s 28ms/step - loss: 3422.2852 - accuracy: 0.0087 - val_loss: 1600.2214 - val_accuracy: 3.1116e-04\n",
      "Epoch 2/100\n",
      "59/59 [==============================] - 1s 16ms/step - loss: 3047.4797 - accuracy: 8.3350e-04 - val_loss: 1622.9283 - val_accuracy: 3.8895e-04\n",
      "Epoch 3/100\n",
      "59/59 [==============================] - 1s 16ms/step - loss: 2938.1199 - accuracy: 0.0025 - val_loss: 1653.9177 - val_accuracy: 0.0012\n",
      "Epoch 4/100\n",
      "59/59 [==============================] - 1s 17ms/step - loss: 2893.6653 - accuracy: 0.0034 - val_loss: 1650.8080 - val_accuracy: 0.0019\n",
      "Epoch 5/100\n",
      "59/59 [==============================] - 1s 17ms/step - loss: 2858.8123 - accuracy: 0.0037 - val_loss: 1621.9087 - val_accuracy: 0.0016\n",
      "Epoch 6/100\n",
      "59/59 [==============================] - 1s 16ms/step - loss: 2840.2371 - accuracy: 0.0034 - val_loss: 1602.4523 - val_accuracy: 0.0010\n",
      "Epoch 7/100\n",
      "59/59 [==============================] - 1s 19ms/step - loss: 2810.7883 - accuracy: 0.0031 - val_loss: 1577.3126 - val_accuracy: 0.0019\n",
      "Epoch 8/100\n",
      "59/59 [==============================] - 1s 17ms/step - loss: 2799.6279 - accuracy: 0.0030 - val_loss: 1550.9861 - val_accuracy: 0.0019\n",
      "Epoch 9/100\n",
      "59/59 [==============================] - 1s 16ms/step - loss: 2764.8215 - accuracy: 0.0028 - val_loss: 1557.6171 - val_accuracy: 0.0018\n",
      "Epoch 10/100\n",
      "59/59 [==============================] - 1s 17ms/step - loss: 2748.2971 - accuracy: 0.0027 - val_loss: 1540.6744 - val_accuracy: 0.0016\n",
      "Epoch 11/100\n",
      "59/59 [==============================] - 2s 38ms/step - loss: 2739.7781 - accuracy: 0.0028 - val_loss: 1544.4240 - val_accuracy: 0.0018\n",
      "Epoch 12/100\n",
      "59/59 [==============================] - 1s 24ms/step - loss: 2717.1167 - accuracy: 0.0022 - val_loss: 1539.9779 - val_accuracy: 0.0022\n",
      "Epoch 13/100\n",
      "59/59 [==============================] - 1s 19ms/step - loss: 2715.4104 - accuracy: 0.0027 - val_loss: 1531.7590 - val_accuracy: 0.0026\n",
      "Epoch 14/100\n",
      "59/59 [==============================] - 1s 18ms/step - loss: 2705.8359 - accuracy: 0.0025 - val_loss: 1514.6290 - val_accuracy: 0.0025\n",
      "Epoch 15/100\n",
      "59/59 [==============================] - 1s 17ms/step - loss: 2677.9680 - accuracy: 0.0031 - val_loss: 1511.3846 - val_accuracy: 0.0026\n",
      "Epoch 16/100\n",
      "59/59 [==============================] - 1s 17ms/step - loss: 2681.0842 - accuracy: 0.0029 - val_loss: 1508.4637 - val_accuracy: 0.0020\n",
      "Epoch 17/100\n",
      "59/59 [==============================] - 1s 18ms/step - loss: 2668.6499 - accuracy: 0.0028 - val_loss: 1507.7805 - val_accuracy: 0.0030\n",
      "Epoch 18/100\n",
      "59/59 [==============================] - 1s 19ms/step - loss: 2672.3040 - accuracy: 0.0031 - val_loss: 1497.8292 - val_accuracy: 0.0033\n",
      "Epoch 19/100\n",
      "59/59 [==============================] - 1s 17ms/step - loss: 2648.1323 - accuracy: 0.0026 - val_loss: 1496.9940 - val_accuracy: 0.0031\n",
      "Epoch 20/100\n",
      "59/59 [==============================] - 1s 18ms/step - loss: 2652.1785 - accuracy: 0.0026 - val_loss: 1495.1260 - val_accuracy: 0.0021\n",
      "Epoch 21/100\n",
      "59/59 [==============================] - 1s 17ms/step - loss: 2636.3279 - accuracy: 0.0024 - val_loss: 1495.3522 - val_accuracy: 0.0033\n",
      "Epoch 22/100\n",
      "59/59 [==============================] - 1s 18ms/step - loss: 2642.3416 - accuracy: 0.0024 - val_loss: 1495.0846 - val_accuracy: 0.0033\n",
      "Epoch 23/100\n",
      "59/59 [==============================] - 1s 19ms/step - loss: 2632.0662 - accuracy: 0.0020 - val_loss: 1491.3286 - val_accuracy: 0.0025\n",
      "Epoch 24/100\n",
      "59/59 [==============================] - 1s 19ms/step - loss: 2614.8645 - accuracy: 0.0020 - val_loss: 1490.3699 - val_accuracy: 0.0029\n",
      "Epoch 25/100\n",
      "59/59 [==============================] - 1s 19ms/step - loss: 2612.0918 - accuracy: 0.0029 - val_loss: 1487.3195 - val_accuracy: 0.0036\n",
      "Epoch 26/100\n",
      "59/59 [==============================] - 1s 18ms/step - loss: 2603.0027 - accuracy: 0.0026 - val_loss: 1489.3632 - val_accuracy: 0.0033\n",
      "Epoch 27/100\n",
      "59/59 [==============================] - 1s 18ms/step - loss: 2611.0264 - accuracy: 0.0024 - val_loss: 1484.5620 - val_accuracy: 0.0028\n",
      "Epoch 28/100\n",
      "59/59 [==============================] - 1s 18ms/step - loss: 2598.2493 - accuracy: 0.0023 - val_loss: 1502.8497 - val_accuracy: 0.0047\n",
      "Epoch 29/100\n",
      "59/59 [==============================] - 1s 17ms/step - loss: 2595.3132 - accuracy: 0.0029 - val_loss: 1495.1064 - val_accuracy: 0.0040\n",
      "Epoch 30/100\n",
      "59/59 [==============================] - 1s 16ms/step - loss: 2589.2866 - accuracy: 0.0021 - val_loss: 1491.9409 - val_accuracy: 0.0040\n",
      "Epoch 31/100\n",
      "59/59 [==============================] - 1s 17ms/step - loss: 2575.6218 - accuracy: 0.0023 - val_loss: 1492.3706 - val_accuracy: 0.0039\n",
      "Epoch 32/100\n",
      "59/59 [==============================] - 1s 16ms/step - loss: 2576.2168 - accuracy: 0.0025 - val_loss: 1492.6805 - val_accuracy: 0.0032\n",
      "Epoch 33/100\n",
      "59/59 [==============================] - 1s 19ms/step - loss: 2572.6318 - accuracy: 0.0021 - val_loss: 1481.2736 - val_accuracy: 0.0022\n",
      "Epoch 34/100\n",
      "59/59 [==============================] - 1s 15ms/step - loss: 2567.6484 - accuracy: 0.0014 - val_loss: 1489.2037 - val_accuracy: 0.0040\n",
      "Epoch 35/100\n",
      "59/59 [==============================] - 1s 16ms/step - loss: 2574.5752 - accuracy: 0.0018 - val_loss: 1492.9663 - val_accuracy: 0.0038\n",
      "Epoch 36/100\n",
      "59/59 [==============================] - 1s 16ms/step - loss: 2552.4353 - accuracy: 0.0019 - val_loss: 1488.0684 - val_accuracy: 0.0038\n",
      "Epoch 37/100\n",
      "59/59 [==============================] - 1s 18ms/step - loss: 2567.8503 - accuracy: 0.0016 - val_loss: 1491.2355 - val_accuracy: 0.0026\n",
      "Epoch 38/100\n",
      "59/59 [==============================] - 1s 17ms/step - loss: 2565.0737 - accuracy: 0.0016 - val_loss: 1495.4911 - val_accuracy: 0.0032\n",
      "Epoch 39/100\n",
      "59/59 [==============================] - 1s 17ms/step - loss: 2558.2881 - accuracy: 0.0013 - val_loss: 1488.8075 - val_accuracy: 0.0029\n",
      "Epoch 40/100\n",
      "59/59 [==============================] - 1s 16ms/step - loss: 2537.3081 - accuracy: 0.0012 - val_loss: 1495.9575 - val_accuracy: 0.0039\n",
      "Epoch 41/100\n",
      "59/59 [==============================] - 1s 17ms/step - loss: 2541.3374 - accuracy: 0.0018 - val_loss: 1485.4102 - val_accuracy: 0.0018\n",
      "Epoch 42/100\n",
      "59/59 [==============================] - 1s 18ms/step - loss: 2523.7783 - accuracy: 0.0017 - val_loss: 1488.8342 - val_accuracy: 0.0026\n",
      "Epoch 43/100\n",
      "59/59 [==============================] - 1s 17ms/step - loss: 2529.5283 - accuracy: 0.0014 - val_loss: 1484.9504 - val_accuracy: 0.0023\n",
      "Epoch 44/100\n",
      "59/59 [==============================] - 1s 16ms/step - loss: 2536.4861 - accuracy: 0.0015 - val_loss: 1490.8864 - val_accuracy: 0.0037\n",
      "Epoch 45/100\n",
      "59/59 [==============================] - 1s 18ms/step - loss: 2526.7344 - accuracy: 0.0018 - val_loss: 1478.7986 - val_accuracy: 0.0026\n",
      "Epoch 46/100\n",
      "59/59 [==============================] - 1s 18ms/step - loss: 2517.4626 - accuracy: 0.0020 - val_loss: 1478.0238 - val_accuracy: 0.0024\n",
      "Epoch 47/100\n",
      "59/59 [==============================] - 1s 16ms/step - loss: 2537.0571 - accuracy: 0.0010 - val_loss: 1486.4751 - val_accuracy: 0.0032\n",
      "Epoch 48/100\n",
      "59/59 [==============================] - 1s 16ms/step - loss: 2495.8481 - accuracy: 0.0016 - val_loss: 1488.3829 - val_accuracy: 0.0030\n",
      "Epoch 49/100\n",
      "59/59 [==============================] - 1s 16ms/step - loss: 2517.8337 - accuracy: 8.3350e-04 - val_loss: 1478.0544 - val_accuracy: 0.0022\n",
      "Epoch 50/100\n",
      "59/59 [==============================] - 1s 16ms/step - loss: 2522.1819 - accuracy: 7.3348e-04 - val_loss: 1479.7325 - val_accuracy: 0.0021\n",
      "Epoch 51/100\n",
      "59/59 [==============================] - 1s 17ms/step - loss: 2498.5671 - accuracy: 0.0010 - val_loss: 1478.7438 - val_accuracy: 0.0024\n",
      "Epoch 52/100\n",
      "59/59 [==============================] - 1s 17ms/step - loss: 2512.0974 - accuracy: 0.0012 - val_loss: 1495.1924 - val_accuracy: 0.0024\n",
      "Epoch 53/100\n",
      "59/59 [==============================] - 1s 17ms/step - loss: 2495.5796 - accuracy: 0.0010 - val_loss: 1500.4305 - val_accuracy: 0.0038\n",
      "Epoch 54/100\n",
      "59/59 [==============================] - 1s 18ms/step - loss: 2508.3694 - accuracy: 0.0011 - val_loss: 1485.1537 - val_accuracy: 0.0019\n",
      "Epoch 55/100\n",
      "59/59 [==============================] - 1s 16ms/step - loss: 2495.1414 - accuracy: 8.3350e-04 - val_loss: 1492.8312 - val_accuracy: 0.0029\n",
      "Epoch 56/100\n",
      "59/59 [==============================] - 1s 16ms/step - loss: 2495.3716 - accuracy: 8.6684e-04 - val_loss: 1486.7686 - val_accuracy: 0.0023\n",
      "Epoch 57/100\n",
      "59/59 [==============================] - 1s 18ms/step - loss: 2498.6240 - accuracy: 0.0011 - val_loss: 1484.5176 - val_accuracy: 0.0021\n",
      "Epoch 58/100\n",
      "59/59 [==============================] - 1s 18ms/step - loss: 2491.1750 - accuracy: 9.6686e-04 - val_loss: 1493.5026 - val_accuracy: 0.0029\n",
      "Epoch 59/100\n",
      "59/59 [==============================] - 1s 17ms/step - loss: 2502.2493 - accuracy: 6.3346e-04 - val_loss: 1494.0300 - val_accuracy: 0.0020\n",
      "Epoch 60/100\n",
      "59/59 [==============================] - 1s 16ms/step - loss: 2481.0066 - accuracy: 7.3348e-04 - val_loss: 1485.8363 - val_accuracy: 0.0018\n",
      "Epoch 61/100\n",
      "59/59 [==============================] - 1s 19ms/step - loss: 2483.6404 - accuracy: 5.0010e-04 - val_loss: 1474.1801 - val_accuracy: 8.5570e-04\n",
      "Epoch 62/100\n",
      "59/59 [==============================] - 1s 16ms/step - loss: 2497.1235 - accuracy: 8.0016e-04 - val_loss: 1474.3589 - val_accuracy: 9.3349e-04\n",
      "Epoch 63/100\n",
      "59/59 [==============================] - 1s 23ms/step - loss: 2483.1084 - accuracy: 5.0010e-04 - val_loss: 1481.0615 - val_accuracy: 0.0013\n",
      "Epoch 64/100\n",
      "59/59 [==============================] - 1s 21ms/step - loss: 2476.8682 - accuracy: 4.6676e-04 - val_loss: 1485.4967 - val_accuracy: 0.0016\n",
      "Epoch 65/100\n",
      "59/59 [==============================] - 1s 18ms/step - loss: 2491.2822 - accuracy: 7.0014e-04 - val_loss: 1470.7152 - val_accuracy: 7.7791e-04\n",
      "Epoch 66/100\n",
      "59/59 [==============================] - 1s 18ms/step - loss: 2457.5486 - accuracy: 5.3344e-04 - val_loss: 1487.4663 - val_accuracy: 0.0019\n",
      "Epoch 67/100\n",
      "59/59 [==============================] - 1s 18ms/step - loss: 2479.9746 - accuracy: 8.0016e-04 - val_loss: 1471.2999 - val_accuracy: 0.0015\n",
      "Epoch 68/100\n",
      "59/59 [==============================] - 1s 18ms/step - loss: 2467.2207 - accuracy: 7.0014e-04 - val_loss: 1471.8741 - val_accuracy: 0.0016\n",
      "Epoch 69/100\n",
      "59/59 [==============================] - 1s 19ms/step - loss: 2450.6284 - accuracy: 6.6680e-04 - val_loss: 1468.8624 - val_accuracy: 0.0010\n",
      "Epoch 70/100\n",
      "59/59 [==============================] - 1s 18ms/step - loss: 2467.4331 - accuracy: 8.0016e-04 - val_loss: 1465.3964 - val_accuracy: 8.5570e-04\n",
      "Epoch 71/100\n",
      "59/59 [==============================] - 1s 20ms/step - loss: 2481.8101 - accuracy: 0.0011 - val_loss: 1462.6263 - val_accuracy: 7.0012e-04\n",
      "Epoch 72/100\n",
      "59/59 [==============================] - 1s 17ms/step - loss: 2463.5605 - accuracy: 6.0012e-04 - val_loss: 1466.6573 - val_accuracy: 0.0012\n",
      "Epoch 73/100\n",
      "59/59 [==============================] - 1s 17ms/step - loss: 2463.0535 - accuracy: 5.3344e-04 - val_loss: 1472.9578 - val_accuracy: 0.0013\n",
      "Epoch 74/100\n",
      "59/59 [==============================] - 1s 16ms/step - loss: 2459.9734 - accuracy: 4.3342e-04 - val_loss: 1477.4150 - val_accuracy: 0.0016\n",
      "Epoch 75/100\n",
      "59/59 [==============================] - 1s 15ms/step - loss: 2466.5847 - accuracy: 6.6680e-04 - val_loss: 1471.6003 - val_accuracy: 0.0012\n",
      "Epoch 76/100\n",
      "59/59 [==============================] - 1s 18ms/step - loss: 2456.8772 - accuracy: 5.0010e-04 - val_loss: 1464.1982 - val_accuracy: 0.0012\n",
      "Epoch 77/100\n",
      "59/59 [==============================] - 1s 17ms/step - loss: 2431.4683 - accuracy: 5.6678e-04 - val_loss: 1464.8400 - val_accuracy: 0.0012\n",
      "Epoch 78/100\n",
      "59/59 [==============================] - 1s 19ms/step - loss: 2433.3069 - accuracy: 6.0012e-04 - val_loss: 1455.6428 - val_accuracy: 0.0013\n",
      "Epoch 79/100\n",
      "59/59 [==============================] - 1s 16ms/step - loss: 2441.9878 - accuracy: 5.6678e-04 - val_loss: 1459.2379 - val_accuracy: 0.0019\n",
      "Epoch 80/100\n",
      "59/59 [==============================] - 1s 17ms/step - loss: 2451.0364 - accuracy: 5.6678e-04 - val_loss: 1471.0684 - val_accuracy: 0.0022\n",
      "Epoch 81/100\n",
      "59/59 [==============================] - 1s 16ms/step - loss: 2448.5334 - accuracy: 4.6676e-04 - val_loss: 1464.4507 - val_accuracy: 0.0017\n",
      "Epoch 82/100\n",
      "59/59 [==============================] - 1s 17ms/step - loss: 2434.3228 - accuracy: 5.6678e-04 - val_loss: 1470.2329 - val_accuracy: 0.0018\n",
      "Epoch 83/100\n",
      "59/59 [==============================] - 1s 18ms/step - loss: 2434.4290 - accuracy: 5.0010e-04 - val_loss: 1470.4767 - val_accuracy: 0.0018\n",
      "Epoch 84/100\n",
      "59/59 [==============================] - 1s 16ms/step - loss: 2439.9094 - accuracy: 6.6680e-04 - val_loss: 1468.1282 - val_accuracy: 0.0016\n",
      "Epoch 85/100\n",
      "59/59 [==============================] - 1s 16ms/step - loss: 2442.3682 - accuracy: 3.3340e-04 - val_loss: 1460.8551 - val_accuracy: 0.0010\n",
      "Epoch 86/100\n",
      "59/59 [==============================] - 1s 16ms/step - loss: 2436.5247 - accuracy: 6.0012e-04 - val_loss: 1472.3937 - val_accuracy: 0.0019\n",
      "Epoch 87/100\n",
      "59/59 [==============================] - 1s 16ms/step - loss: 2419.0503 - accuracy: 6.6680e-04 - val_loss: 1469.0112 - val_accuracy: 0.0018\n",
      "Epoch 88/100\n",
      "59/59 [==============================] - 1s 19ms/step - loss: 2418.5154 - accuracy: 4.0008e-04 - val_loss: 1455.5187 - val_accuracy: 7.0012e-04\n",
      "Epoch 89/100\n",
      "59/59 [==============================] - 1s 18ms/step - loss: 2432.0454 - accuracy: 5.6678e-04 - val_loss: 1462.6718 - val_accuracy: 0.0012\n",
      "Epoch 90/100\n",
      "59/59 [==============================] - 1s 17ms/step - loss: 2431.6995 - accuracy: 4.6676e-04 - val_loss: 1460.2211 - val_accuracy: 0.0010\n",
      "Epoch 91/100\n",
      "59/59 [==============================] - 1s 17ms/step - loss: 2417.0383 - accuracy: 3.0006e-04 - val_loss: 1455.9324 - val_accuracy: 0.0011\n",
      "Epoch 92/100\n",
      "59/59 [==============================] - 1s 17ms/step - loss: 2431.8723 - accuracy: 3.6674e-04 - val_loss: 1455.5199 - val_accuracy: 0.0011\n",
      "Epoch 93/100\n",
      "59/59 [==============================] - 1s 17ms/step - loss: 2407.3418 - accuracy: 5.3344e-04 - val_loss: 1456.1719 - val_accuracy: 0.0014\n",
      "Epoch 94/100\n",
      "59/59 [==============================] - 1s 18ms/step - loss: 2412.9631 - accuracy: 3.3340e-04 - val_loss: 1448.1659 - val_accuracy: 6.2233e-04\n",
      "Epoch 95/100\n",
      "59/59 [==============================] - 1s 18ms/step - loss: 2412.7734 - accuracy: 3.6674e-04 - val_loss: 1459.7522 - val_accuracy: 0.0018\n",
      "Epoch 96/100\n",
      "59/59 [==============================] - 1s 16ms/step - loss: 2398.1565 - accuracy: 3.6674e-04 - val_loss: 1461.3417 - val_accuracy: 0.0019\n",
      "Epoch 97/100\n",
      "59/59 [==============================] - 1s 18ms/step - loss: 2406.9651 - accuracy: 4.0008e-04 - val_loss: 1461.8517 - val_accuracy: 0.0011\n",
      "Epoch 98/100\n",
      "59/59 [==============================] - 1s 17ms/step - loss: 2407.6296 - accuracy: 4.6676e-04 - val_loss: 1450.3608 - val_accuracy: 7.7791e-04\n",
      "Epoch 99/100\n",
      "59/59 [==============================] - 1s 17ms/step - loss: 2402.5693 - accuracy: 5.0010e-04 - val_loss: 1448.3605 - val_accuracy: 7.7791e-04\n",
      "Epoch 100/100\n",
      "59/59 [==============================] - 1s 17ms/step - loss: 2408.9707 - accuracy: 4.3342e-04 - val_loss: 1448.4744 - val_accuracy: 0.0012\n",
      "Finish trainning. Time:  109.46539258956909\n"
     ]
    }
   ],
   "source": [
    "start = time.time()\n",
    "adam = Adam(lr = 5e-5)\n",
    "model2.compile(loss='mse', optimizer=adam,  metrics=['accuracy'])\n",
    "checkpointer = ModelCheckpoint(filepath=\"./bilstmfridge_model.hdf5\", verbose=0, save_best_only=True)\n",
    "hist_lstm = model2.fit(\n",
    "            X_train2,\n",
    "            y_fridge_estimation_train,\n",
    "            batch_size=512,\n",
    "            verbose=1,\n",
    "            epochs=100,\n",
    "            validation_split=0.3,\n",
    "            callbacks=[checkpointer])\n",
    "print('Finish trainning. Time: ', time.time() - start)"
   ]
  },
  {
   "cell_type": "code",
   "execution_count": null,
   "metadata": {
    "colab": {
     "base_uri": "https://localhost:8080/",
     "height": 621
    },
    "id": "CVWqL30Acmgr",
    "outputId": "ef56cda8-56ed-4e55-87bc-979aa1986020"
   },
   "outputs": [
    {
     "data": {
      "image/png": "[encoded data removed]",
      "text/plain": [
       "<Figure size 1728x720 with 1 Axes>"
      ]
     },
     "metadata": {
      "needs_background": "light"
     },
     "output_type": "display_data"
    }
   ],
   "source": [
    "train_loss = hist_lstm.history['loss']\n",
    "val_loss = hist_lstm.history['val_loss']\n",
    "def plot_losses(train_loss, val_loss):\n",
    "    plt.rcParams[\"figure.figsize\"] = [24,10]\n",
    "    plt.title('Mean squared error of train and val set on house 1')\n",
    "    plt.plot( range(len(train_loss)), train_loss, color = 'b', alpha = 0.6, label='train_loss' )\n",
    "    plt.plot( range(len( val_loss )), val_loss, color = 'r', alpha = 0.6, label='val_loss' )\n",
    "    plt.xlabel( 'epoch' )\n",
    "    plt.ylabel( 'loss' )\n",
    "    plt.legend()\n",
    "\n",
    "plot_losses(train_loss, val_loss)"
   ]
  },
  {
   "cell_type": "code",
   "execution_count": null,
   "metadata": {
    "colab": {
     "base_uri": "https://localhost:8080/"
    },
    "id": "AsORkMlRIALy",
    "outputId": "a23c17bd-e753-4901-afde-bf4c02191563"
   },
   "outputs": [
    {
     "name": "stdout",
     "output_type": "stream",
     "text": [
      "(10495,)\n"
     ]
    }
   ],
   "source": [
    "#prediction\n",
    "pred_lstm = model2.predict(X_test2).reshape(-1)\n",
    "print(pred_lstm.shape)"
   ]
  },
  {
   "cell_type": "markdown",
   "metadata": {
    "id": "36-_ikOrLr2K"
   },
   "source": [
    "Model 3  washing machine ON/OFF identification using SVM classification model"
   ]
  },
  {
   "cell_type": "code",
   "execution_count": null,
   "metadata": {
    "colab": {
     "base_uri": "https://localhost:8080/"
    },
    "id": "AHc0GMk_L5Uh",
    "outputId": "0af43ee1-ba15-43e4-91dc-b8dbe22d9707"
   },
   "outputs": [
    {
     "name": "stdout",
     "output_type": "stream",
     "text": [
      "(42849, 10) (42849,) (10495, 10) (10495,)\n"
     ]
    }
   ],
   "source": [
    "y_wm_classification_train = y_wm_classification_train[0:Xtrain1.shape[0]]\n",
    "y_wm_classification_test = y_wm_classification_test[0:Xtest1.shape[0]]\n",
    "print(Xtrain1.shape, y_wm_classification_train.shape, Xtest1.shape, y_wm_classification_test.shape)"
   ]
  },
  {
   "cell_type": "code",
   "execution_count": null,
   "metadata": {
    "id": "CllcoR1QMam6"
   },
   "outputs": [],
   "source": [
    "model3 = svm.SVC()\n",
    "model3.fit(Xtrain1, y_wm_classification_train)\n",
    "y_wm_classif_predict = model3.predict(Xtest1).reshape(-1)"
   ]
  },
  {
   "cell_type": "markdown",
   "metadata": {
    "id": "yXKfYi8VPLox"
   },
   "source": [
    "Model 4  washing machine power estimation using biLSTM "
   ]
  },
  {
   "cell_type": "code",
   "execution_count": null,
   "metadata": {
    "colab": {
     "base_uri": "https://localhost:8080/"
    },
    "id": "OyTVVDXLPYY6",
    "outputId": "bd0d4290-7671-4597-dae6-da5652ee126d"
   },
   "outputs": [
    {
     "name": "stdout",
     "output_type": "stream",
     "text": [
      "(42849, 1, 10) (42849,) (10495, 1, 10) (10495,)\n"
     ]
    }
   ],
   "source": [
    "y_wm_estimation_train = y_wm_estimation_train[0:X_train2.shape[0]]\n",
    "y_wm_estimation_test = y_wm_estimation_test[0:X_test2.shape[0]]\n",
    "print(X_train2.shape, y_wm_estimation_train.shape, X_test2.shape, y_wm_estimation_test.shape)"
   ]
  },
  {
   "cell_type": "code",
   "execution_count": null,
   "metadata": {
    "colab": {
     "base_uri": "https://localhost:8080/"
    },
    "id": "AsIOf3jmQFeD",
    "outputId": "5c3b90de-be8f-4ccf-dfc7-b8a2b45eb7c3"
   },
   "outputs": [
    {
     "name": "stderr",
     "output_type": "stream",
     "text": [
      "WARNING:tensorflow:Layer lstm_2 will not use cuDNN kernels since it doesn't meet the criteria. It will use a generic GPU kernel as fallback when running on GPU.\n",
      "WARNING:tensorflow:Layer lstm_2 will not use cuDNN kernels since it doesn't meet the criteria. It will use a generic GPU kernel as fallback when running on GPU.\n",
      "WARNING:tensorflow:Layer lstm_2 will not use cuDNN kernels since it doesn't meet the criteria. It will use a generic GPU kernel as fallback when running on GPU.\n",
      "WARNING:tensorflow:Layer lstm_3 will not use cuDNN kernels since it doesn't meet the criteria. It will use a generic GPU kernel as fallback when running on GPU.\n",
      "WARNING:tensorflow:Layer lstm_3 will not use cuDNN kernels since it doesn't meet the criteria. It will use a generic GPU kernel as fallback when running on GPU.\n",
      "WARNING:tensorflow:Layer lstm_3 will not use cuDNN kernels since it doesn't meet the criteria. It will use a generic GPU kernel as fallback when running on GPU.\n"
     ]
    },
    {
     "name": "stdout",
     "output_type": "stream",
     "text": [
      "Model: \"sequential_1\"\n",
      "_________________________________________________________________\n",
      " Layer (type)                Output Shape              Param #   \n",
      "=================================================================\n",
      " bidirectional_2 (Bidirectio  (None, 1, 128)           38400     \n",
      " nal)                                                            \n",
      "                                                                 \n",
      " dropout_2 (Dropout)         (None, 1, 128)            0         \n",
      "                                                                 \n",
      " bidirectional_3 (Bidirectio  (None, 256)              263168    \n",
      " nal)                                                            \n",
      "                                                                 \n",
      " dropout_3 (Dropout)         (None, 256)               0         \n",
      "                                                                 \n",
      " dense_2 (Dense)             (None, 1024)              263168    \n",
      "                                                                 \n",
      " dense_3 (Dense)             (None, 1)                 1025      \n",
      "                                                                 \n",
      "=================================================================\n",
      "Total params: 565,761\n",
      "Trainable params: 565,761\n",
      "Non-trainable params: 0\n",
      "_________________________________________________________________\n"
     ]
    }
   ],
   "source": [
    "def build_lstm_model(layers):\n",
    "    model4 = Sequential()\n",
    "    for i in range(len(layers) - 2):\n",
    "        model4.add(Bidirectional(LSTM(layers[i+1],\n",
    "            input_dim=layers[i],\n",
    "            activation=\"relu\",\n",
    "            return_sequences= True if i < len(layers) - 3 else False )))\n",
    "        model4.add(Dropout(0.3))\n",
    "        \n",
    "    model4.add(Dense(1024,activation=\"relu\"))\n",
    "    model4.add(Dense(layers[-1]))\n",
    "    model4.build(input_shape=[None, 1, 10])\n",
    "    model4.summary()\n",
    "    return model4\n",
    "\n",
    "model4 = build_lstm_model([10,64,128,1])"
   ]
  },
  {
   "cell_type": "code",
   "execution_count": null,
   "metadata": {
    "colab": {
     "base_uri": "https://localhost:8080/"
    },
    "id": "b2xzV5cYQWYi",
    "outputId": "35d74773-1522-4854-a683-36c7b762359d"
   },
   "outputs": [
    {
     "name": "stderr",
     "output_type": "stream",
     "text": [
      "/usr/local/lib/python3.7/dist-packages/keras/optimizer_v2/adam.py:105: UserWarning: The `lr` argument is deprecated, use `learning_rate` instead.\n",
      "  super(Adam, self).__init__(name, **kwargs)\n"
     ]
    },
    {
     "name": "stdout",
     "output_type": "stream",
     "text": [
      "Epoch 1/100\n",
      "59/59 [==============================] - 5s 27ms/step - loss: 7648.8481 - accuracy: 0.3688 - val_loss: 4183.7104 - val_accuracy: 0.3395\n",
      "Epoch 2/100\n",
      "59/59 [==============================] - 1s 19ms/step - loss: 7517.5239 - accuracy: 0.2571 - val_loss: 4135.2324 - val_accuracy: 0.3743\n",
      "Epoch 3/100\n",
      "59/59 [==============================] - 1s 18ms/step - loss: 7400.0845 - accuracy: 0.2894 - val_loss: 4091.5464 - val_accuracy: 0.3634\n",
      "Epoch 4/100\n",
      "59/59 [==============================] - 1s 19ms/step - loss: 7329.6128 - accuracy: 0.2406 - val_loss: 4045.5593 - val_accuracy: 0.4439\n",
      "Epoch 5/100\n",
      "59/59 [==============================] - 1s 19ms/step - loss: 7259.5435 - accuracy: 0.2891 - val_loss: 4004.4153 - val_accuracy: 0.4722\n",
      "Epoch 6/100\n",
      "59/59 [==============================] - 1s 19ms/step - loss: 7066.7510 - accuracy: 0.3070 - val_loss: 3968.5361 - val_accuracy: 0.4823\n",
      "Epoch 7/100\n",
      "59/59 [==============================] - 1s 18ms/step - loss: 6993.7544 - accuracy: 0.3084 - val_loss: 3928.7290 - val_accuracy: 0.5364\n",
      "Epoch 8/100\n",
      "59/59 [==============================] - 1s 17ms/step - loss: 6875.4917 - accuracy: 0.3420 - val_loss: 3889.8420 - val_accuracy: 0.5394\n",
      "Epoch 9/100\n",
      "59/59 [==============================] - 1s 18ms/step - loss: 6890.4043 - accuracy: 0.3530 - val_loss: 3874.3398 - val_accuracy: 0.5531\n",
      "Epoch 10/100\n",
      "59/59 [==============================] - 1s 19ms/step - loss: 6916.9048 - accuracy: 0.3685 - val_loss: 3869.8396 - val_accuracy: 0.6193\n",
      "Epoch 11/100\n",
      "59/59 [==============================] - 1s 17ms/step - loss: 6793.1606 - accuracy: 0.3869 - val_loss: 3886.6565 - val_accuracy: 0.6349\n",
      "Epoch 12/100\n",
      "59/59 [==============================] - 1s 17ms/step - loss: 6492.3970 - accuracy: 0.3924 - val_loss: 3882.9417 - val_accuracy: 0.6608\n",
      "Epoch 13/100\n",
      "59/59 [==============================] - 1s 16ms/step - loss: 6720.6714 - accuracy: 0.4142 - val_loss: 3910.0427 - val_accuracy: 0.6455\n",
      "Epoch 14/100\n",
      "59/59 [==============================] - 1s 17ms/step - loss: 6366.7144 - accuracy: 0.3944 - val_loss: 3895.2192 - val_accuracy: 0.6860\n",
      "Epoch 15/100\n",
      "59/59 [==============================] - 1s 18ms/step - loss: 6382.1392 - accuracy: 0.4094 - val_loss: 3905.3296 - val_accuracy: 0.6947\n",
      "Epoch 16/100\n",
      "59/59 [==============================] - 1s 18ms/step - loss: 6519.1099 - accuracy: 0.4281 - val_loss: 3909.0232 - val_accuracy: 0.6911\n",
      "Epoch 17/100\n",
      "59/59 [==============================] - 1s 16ms/step - loss: 6469.0674 - accuracy: 0.4026 - val_loss: 3921.5486 - val_accuracy: 0.7175\n",
      "Epoch 18/100\n",
      "59/59 [==============================] - 1s 17ms/step - loss: 6443.6245 - accuracy: 0.4328 - val_loss: 3924.9761 - val_accuracy: 0.6873\n",
      "Epoch 19/100\n",
      "59/59 [==============================] - 1s 17ms/step - loss: 6322.8125 - accuracy: 0.4480 - val_loss: 3926.1206 - val_accuracy: 0.6679\n",
      "Epoch 20/100\n",
      "59/59 [==============================] - 1s 16ms/step - loss: 6283.0327 - accuracy: 0.4108 - val_loss: 3957.0110 - val_accuracy: 0.6971\n",
      "Epoch 21/100\n",
      "59/59 [==============================] - 1s 17ms/step - loss: 6470.6191 - accuracy: 0.4254 - val_loss: 3938.8838 - val_accuracy: 0.6729\n",
      "Epoch 22/100\n",
      "59/59 [==============================] - 1s 17ms/step - loss: 6363.7583 - accuracy: 0.4217 - val_loss: 3930.6111 - val_accuracy: 0.6875\n",
      "Epoch 23/100\n",
      "59/59 [==============================] - 1s 17ms/step - loss: 6252.9976 - accuracy: 0.4691 - val_loss: 3935.0942 - val_accuracy: 0.6447\n",
      "Epoch 24/100\n",
      "59/59 [==============================] - 1s 17ms/step - loss: 6172.5947 - accuracy: 0.3813 - val_loss: 3920.5564 - val_accuracy: 0.6807\n",
      "Epoch 25/100\n",
      "59/59 [==============================] - 1s 16ms/step - loss: 6431.6089 - accuracy: 0.4468 - val_loss: 3899.4065 - val_accuracy: 0.6639\n",
      "Epoch 26/100\n",
      "59/59 [==============================] - 1s 16ms/step - loss: 6328.9229 - accuracy: 0.4105 - val_loss: 3885.7209 - val_accuracy: 0.6632\n",
      "Epoch 27/100\n",
      "59/59 [==============================] - 1s 17ms/step - loss: 6356.7935 - accuracy: 0.4401 - val_loss: 3847.0957 - val_accuracy: 0.7250\n",
      "Epoch 28/100\n",
      "59/59 [==============================] - 1s 16ms/step - loss: 5953.6777 - accuracy: 0.4281 - val_loss: 3861.2625 - val_accuracy: 0.6663\n",
      "Epoch 29/100\n",
      "59/59 [==============================] - 1s 16ms/step - loss: 6250.8369 - accuracy: 0.4384 - val_loss: 3863.9814 - val_accuracy: 0.7706\n",
      "Epoch 30/100\n",
      "59/59 [==============================] - 1s 16ms/step - loss: 6424.3369 - accuracy: 0.4546 - val_loss: 3837.8591 - val_accuracy: 0.6099\n",
      "Epoch 31/100\n",
      "59/59 [==============================] - 1s 16ms/step - loss: 6285.9951 - accuracy: 0.4246 - val_loss: 3871.2666 - val_accuracy: 0.7739\n",
      "Epoch 32/100\n",
      "59/59 [==============================] - 1s 15ms/step - loss: 5995.6025 - accuracy: 0.4759 - val_loss: 3859.6909 - val_accuracy: 0.6530\n",
      "Epoch 33/100\n",
      "59/59 [==============================] - 2s 28ms/step - loss: 6000.8662 - accuracy: 0.4379 - val_loss: 3887.2036 - val_accuracy: 0.7528\n",
      "Epoch 34/100\n",
      "59/59 [==============================] - 2s 37ms/step - loss: 6139.8257 - accuracy: 0.4626 - val_loss: 3871.7117 - val_accuracy: 0.6226\n",
      "Epoch 35/100\n",
      "59/59 [==============================] - 1s 22ms/step - loss: 6205.2554 - accuracy: 0.4210 - val_loss: 3847.7778 - val_accuracy: 0.5916\n",
      "Epoch 36/100\n",
      "59/59 [==============================] - 1s 16ms/step - loss: 6358.7524 - accuracy: 0.4078 - val_loss: 3860.0601 - val_accuracy: 0.6514\n",
      "Epoch 37/100\n",
      "59/59 [==============================] - 1s 17ms/step - loss: 5879.9199 - accuracy: 0.4182 - val_loss: 3900.8481 - val_accuracy: 0.7746\n",
      "Epoch 38/100\n",
      "59/59 [==============================] - 1s 18ms/step - loss: 6239.6431 - accuracy: 0.4575 - val_loss: 3895.6033 - val_accuracy: 0.5960\n",
      "Epoch 39/100\n",
      "59/59 [==============================] - 1s 17ms/step - loss: 6078.8154 - accuracy: 0.4331 - val_loss: 3912.2048 - val_accuracy: 0.7277\n",
      "Epoch 40/100\n",
      "59/59 [==============================] - 1s 17ms/step - loss: 6280.6440 - accuracy: 0.4062 - val_loss: 3875.1406 - val_accuracy: 0.7322\n",
      "Epoch 41/100\n",
      "59/59 [==============================] - 1s 18ms/step - loss: 5773.7861 - accuracy: 0.4175 - val_loss: 3879.0491 - val_accuracy: 0.7140\n",
      "Epoch 42/100\n",
      "59/59 [==============================] - 1s 17ms/step - loss: 6050.5435 - accuracy: 0.4667 - val_loss: 3910.2439 - val_accuracy: 0.5846\n",
      "Epoch 43/100\n",
      "59/59 [==============================] - 1s 16ms/step - loss: 5958.0039 - accuracy: 0.4273 - val_loss: 3894.0044 - val_accuracy: 0.6226\n",
      "Epoch 44/100\n",
      "59/59 [==============================] - 1s 17ms/step - loss: 6016.8232 - accuracy: 0.3984 - val_loss: 3908.1804 - val_accuracy: 0.7406\n",
      "Epoch 45/100\n",
      "59/59 [==============================] - 1s 17ms/step - loss: 5881.2354 - accuracy: 0.4209 - val_loss: 3909.3350 - val_accuracy: 0.6658\n",
      "Epoch 46/100\n",
      "59/59 [==============================] - 1s 17ms/step - loss: 5911.9102 - accuracy: 0.4068 - val_loss: 3890.9404 - val_accuracy: 0.6905\n",
      "Epoch 47/100\n",
      "59/59 [==============================] - 1s 16ms/step - loss: 5780.8394 - accuracy: 0.4681 - val_loss: 3923.8110 - val_accuracy: 0.6801\n",
      "Epoch 48/100\n",
      "59/59 [==============================] - 1s 16ms/step - loss: 5885.6802 - accuracy: 0.4227 - val_loss: 3912.3721 - val_accuracy: 0.6895\n",
      "Epoch 49/100\n",
      "59/59 [==============================] - 1s 17ms/step - loss: 6059.2114 - accuracy: 0.4320 - val_loss: 3882.2126 - val_accuracy: 0.7718\n",
      "Epoch 50/100\n",
      "59/59 [==============================] - 1s 16ms/step - loss: 6158.2949 - accuracy: 0.4313 - val_loss: 3867.1484 - val_accuracy: 0.6528\n",
      "Epoch 51/100\n",
      "59/59 [==============================] - 1s 18ms/step - loss: 5780.0610 - accuracy: 0.4560 - val_loss: 3872.5054 - val_accuracy: 0.5511\n",
      "Epoch 52/100\n",
      "59/59 [==============================] - 1s 16ms/step - loss: 5883.2715 - accuracy: 0.4282 - val_loss: 3855.5425 - val_accuracy: 0.7067\n",
      "Epoch 53/100\n",
      "59/59 [==============================] - 1s 16ms/step - loss: 6004.3887 - accuracy: 0.4228 - val_loss: 3873.5430 - val_accuracy: 0.6793\n",
      "Epoch 54/100\n",
      "59/59 [==============================] - 1s 16ms/step - loss: 5749.2817 - accuracy: 0.4142 - val_loss: 3903.7107 - val_accuracy: 0.5564\n",
      "Epoch 55/100\n",
      "59/59 [==============================] - 1s 18ms/step - loss: 5947.0171 - accuracy: 0.4271 - val_loss: 3878.7327 - val_accuracy: 0.6716\n",
      "Epoch 56/100\n",
      "59/59 [==============================] - 1s 18ms/step - loss: 5709.9326 - accuracy: 0.4758 - val_loss: 3860.8469 - val_accuracy: 0.5676\n",
      "Epoch 57/100\n",
      "59/59 [==============================] - 1s 17ms/step - loss: 5710.5220 - accuracy: 0.4155 - val_loss: 3852.8298 - val_accuracy: 0.6783\n",
      "Epoch 58/100\n",
      "59/59 [==============================] - 1s 17ms/step - loss: 6028.1201 - accuracy: 0.4402 - val_loss: 3866.5830 - val_accuracy: 0.5256\n",
      "Epoch 59/100\n",
      "59/59 [==============================] - 1s 17ms/step - loss: 5777.4824 - accuracy: 0.4377 - val_loss: 3868.8984 - val_accuracy: 0.5953\n",
      "Epoch 60/100\n",
      "59/59 [==============================] - 1s 18ms/step - loss: 5966.2646 - accuracy: 0.3873 - val_loss: 3894.6592 - val_accuracy: 0.6156\n",
      "Epoch 61/100\n",
      "59/59 [==============================] - 1s 17ms/step - loss: 5687.9146 - accuracy: 0.4171 - val_loss: 3944.3357 - val_accuracy: 0.5727\n",
      "Epoch 62/100\n",
      "59/59 [==============================] - 1s 18ms/step - loss: 5649.9224 - accuracy: 0.3494 - val_loss: 3914.5371 - val_accuracy: 0.7383\n",
      "Epoch 63/100\n",
      "59/59 [==============================] - 1s 18ms/step - loss: 6051.2295 - accuracy: 0.4811 - val_loss: 3898.0151 - val_accuracy: 0.4009\n",
      "Epoch 64/100\n",
      "59/59 [==============================] - 1s 18ms/step - loss: 5783.5215 - accuracy: 0.3981 - val_loss: 3900.4072 - val_accuracy: 0.4424\n",
      "Epoch 65/100\n",
      "59/59 [==============================] - 1s 16ms/step - loss: 5600.1230 - accuracy: 0.4193 - val_loss: 3983.0410 - val_accuracy: 0.7458\n",
      "Epoch 66/100\n",
      "59/59 [==============================] - 1s 18ms/step - loss: 5523.1899 - accuracy: 0.4827 - val_loss: 3887.4580 - val_accuracy: 0.4934\n",
      "Epoch 67/100\n",
      "59/59 [==============================] - 1s 17ms/step - loss: 5774.7300 - accuracy: 0.3700 - val_loss: 3894.6765 - val_accuracy: 0.5265\n",
      "Epoch 68/100\n",
      "59/59 [==============================] - 1s 17ms/step - loss: 6053.7202 - accuracy: 0.4055 - val_loss: 3872.3511 - val_accuracy: 0.6743\n",
      "Epoch 69/100\n",
      "59/59 [==============================] - 1s 16ms/step - loss: 5652.3330 - accuracy: 0.4221 - val_loss: 3892.7749 - val_accuracy: 0.4999\n",
      "Epoch 70/100\n",
      "59/59 [==============================] - 1s 17ms/step - loss: 5499.4897 - accuracy: 0.4193 - val_loss: 3877.0867 - val_accuracy: 0.5854\n",
      "Epoch 71/100\n",
      "59/59 [==============================] - 1s 17ms/step - loss: 5268.7905 - accuracy: 0.3972 - val_loss: 3945.5159 - val_accuracy: 0.6173\n",
      "Epoch 72/100\n",
      "59/59 [==============================] - 1s 16ms/step - loss: 5594.9946 - accuracy: 0.4761 - val_loss: 3969.4272 - val_accuracy: 0.4888\n",
      "Epoch 73/100\n",
      "59/59 [==============================] - 1s 18ms/step - loss: 5826.2266 - accuracy: 0.3731 - val_loss: 3974.5000 - val_accuracy: 0.4506\n",
      "Epoch 74/100\n",
      "59/59 [==============================] - 1s 18ms/step - loss: 5497.0957 - accuracy: 0.4199 - val_loss: 3949.7566 - val_accuracy: 0.5230\n",
      "Epoch 75/100\n",
      "59/59 [==============================] - 1s 17ms/step - loss: 5417.2847 - accuracy: 0.3960 - val_loss: 3962.6985 - val_accuracy: 0.6335\n",
      "Epoch 76/100\n",
      "59/59 [==============================] - 1s 17ms/step - loss: 5387.1221 - accuracy: 0.4669 - val_loss: 3947.5288 - val_accuracy: 0.4194\n",
      "Epoch 77/100\n",
      "59/59 [==============================] - 1s 16ms/step - loss: 5669.9819 - accuracy: 0.4355 - val_loss: 3960.6948 - val_accuracy: 0.5206\n",
      "Epoch 78/100\n",
      "59/59 [==============================] - 1s 16ms/step - loss: 5755.0547 - accuracy: 0.4235 - val_loss: 3922.1741 - val_accuracy: 0.2821\n",
      "Epoch 79/100\n",
      "59/59 [==============================] - 1s 18ms/step - loss: 5549.4731 - accuracy: 0.4248 - val_loss: 3934.5503 - val_accuracy: 0.5368\n",
      "Epoch 80/100\n",
      "59/59 [==============================] - 1s 17ms/step - loss: 5494.7725 - accuracy: 0.4108 - val_loss: 3958.3936 - val_accuracy: 0.5147\n",
      "Epoch 81/100\n",
      "59/59 [==============================] - 1s 18ms/step - loss: 5603.4438 - accuracy: 0.4570 - val_loss: 3985.3457 - val_accuracy: 0.5075\n",
      "Epoch 82/100\n",
      "59/59 [==============================] - 1s 16ms/step - loss: 5566.4497 - accuracy: 0.4144 - val_loss: 4001.3308 - val_accuracy: 0.4678\n",
      "Epoch 83/100\n",
      "59/59 [==============================] - 1s 18ms/step - loss: 5636.9204 - accuracy: 0.4065 - val_loss: 3975.9038 - val_accuracy: 0.5263\n",
      "Epoch 84/100\n",
      "59/59 [==============================] - 1s 17ms/step - loss: 5239.7124 - accuracy: 0.4206 - val_loss: 3974.9834 - val_accuracy: 0.4441\n",
      "Epoch 85/100\n",
      "59/59 [==============================] - 1s 18ms/step - loss: 5481.5684 - accuracy: 0.4222 - val_loss: 3938.3406 - val_accuracy: 0.4397\n",
      "Epoch 86/100\n",
      "59/59 [==============================] - 1s 18ms/step - loss: 5610.2139 - accuracy: 0.3979 - val_loss: 3988.2883 - val_accuracy: 0.5333\n",
      "Epoch 87/100\n",
      "59/59 [==============================] - 1s 16ms/step - loss: 5548.6221 - accuracy: 0.4678 - val_loss: 4034.8525 - val_accuracy: 0.4399\n",
      "Epoch 88/100\n",
      "59/59 [==============================] - 1s 17ms/step - loss: 5290.2461 - accuracy: 0.4180 - val_loss: 4061.0828 - val_accuracy: 0.6012\n",
      "Epoch 89/100\n",
      "59/59 [==============================] - 1s 18ms/step - loss: 5354.8359 - accuracy: 0.4695 - val_loss: 4061.4609 - val_accuracy: 0.3927\n",
      "Epoch 90/100\n",
      "59/59 [==============================] - 1s 18ms/step - loss: 5137.3442 - accuracy: 0.3814 - val_loss: 4012.9053 - val_accuracy: 0.3771\n",
      "Epoch 91/100\n",
      "59/59 [==============================] - 1s 18ms/step - loss: 5364.2568 - accuracy: 0.4158 - val_loss: 4062.4404 - val_accuracy: 0.6050\n",
      "Epoch 92/100\n",
      "59/59 [==============================] - 1s 17ms/step - loss: 5571.4468 - accuracy: 0.4534 - val_loss: 4097.4702 - val_accuracy: 0.3477\n",
      "Epoch 93/100\n",
      "59/59 [==============================] - 1s 18ms/step - loss: 5384.9365 - accuracy: 0.3475 - val_loss: 4102.9033 - val_accuracy: 0.3839\n",
      "Epoch 94/100\n",
      "59/59 [==============================] - 1s 17ms/step - loss: 5426.0874 - accuracy: 0.3621 - val_loss: 4082.6226 - val_accuracy: 0.3282\n",
      "Epoch 95/100\n",
      "59/59 [==============================] - 1s 18ms/step - loss: 5656.7939 - accuracy: 0.4135 - val_loss: 4063.6013 - val_accuracy: 0.2952\n",
      "Epoch 96/100\n",
      "59/59 [==============================] - 1s 18ms/step - loss: 5592.0610 - accuracy: 0.4108 - val_loss: 4092.8296 - val_accuracy: 0.4812\n",
      "Epoch 97/100\n",
      "59/59 [==============================] - 1s 16ms/step - loss: 5100.8062 - accuracy: 0.4118 - val_loss: 4094.1794 - val_accuracy: 0.4085\n",
      "Epoch 98/100\n",
      "59/59 [==============================] - 1s 17ms/step - loss: 5551.9092 - accuracy: 0.4165 - val_loss: 4102.8481 - val_accuracy: 0.4091\n",
      "Epoch 99/100\n",
      "59/59 [==============================] - 1s 16ms/step - loss: 5036.8281 - accuracy: 0.3932 - val_loss: 4115.4614 - val_accuracy: 0.4521\n",
      "Epoch 100/100\n",
      "59/59 [==============================] - 1s 16ms/step - loss: 5368.8594 - accuracy: 0.4388 - val_loss: 4070.9202 - val_accuracy: 0.6597\n",
      "Finish trainning. Time:  145.7777886390686\n"
     ]
    }
   ],
   "source": [
    "start = time.time()\n",
    "adam = Adam(lr = 5e-5)\n",
    "model4.compile(loss='mse', optimizer=adam,  metrics=['accuracy'])\n",
    "checkpointer = ModelCheckpoint(filepath=\"./bilstmwm_model.hdf5\", verbose=0, save_best_only=True)\n",
    "hist_lstm = model4.fit(\n",
    "            X_train2,\n",
    "            y_wm_estimation_train,\n",
    "            batch_size=512,\n",
    "            verbose=1,\n",
    "            epochs=100,\n",
    "            validation_split=0.3,\n",
    "            callbacks=[checkpointer])\n",
    "print('Finish trainning. Time: ', time.time() - start)"
   ]
  },
  {
   "cell_type": "code",
   "execution_count": null,
   "metadata": {
    "colab": {
     "base_uri": "https://localhost:8080/"
    },
    "id": "zH67YQeeQpOB",
    "outputId": "f54466c3-52ee-4321-f5d3-a397d9d81bf5"
   },
   "outputs": [
    {
     "name": "stdout",
     "output_type": "stream",
     "text": [
      "(10495,)\n"
     ]
    }
   ],
   "source": [
    "#prediction\n",
    "pred_lstm_wm = model4.predict(X_test2).reshape(-1)\n",
    "print(pred_lstm_wm.shape)"
   ]
  },
  {
   "cell_type": "markdown",
   "metadata": {
    "id": "ZN-Nh4X5RYrq"
   },
   "source": [
    "Model 5 Microwave ON/OFF detection using SVM classification model"
   ]
  },
  {
   "cell_type": "code",
   "execution_count": null,
   "metadata": {
    "colab": {
     "base_uri": "https://localhost:8080/"
    },
    "id": "Yo-EuIfVRhDZ",
    "outputId": "30843898-fc46-4eb0-c6a7-e28eb1242eb1"
   },
   "outputs": [
    {
     "name": "stdout",
     "output_type": "stream",
     "text": [
      "(42849, 10) (42849,) (10495, 10) (10495,)\n"
     ]
    }
   ],
   "source": [
    "y_microwave_classification_train = y_microwave_classification_train[0:Xtrain1.shape[0]]\n",
    "y_microwave_classification_test = y_microwave_classification_test[0:Xtest1.shape[0]]\n",
    "print(Xtrain1.shape, y_microwave_classification_train.shape, Xtest1.shape, y_microwave_classification_test.shape)"
   ]
  },
  {
   "cell_type": "code",
   "execution_count": null,
   "metadata": {
    "id": "Clfy3g1ARqy6"
   },
   "outputs": [],
   "source": [
    "model5 = svm.SVC()\n",
    "model5.fit(Xtrain1, y_microwave_classification_train)\n",
    "y_microwave_classif_predict = model5.predict(Xtest1).reshape(-1)"
   ]
  },
  {
   "cell_type": "markdown",
   "metadata": {
    "id": "NK67T6ZJTKrq"
   },
   "source": [
    "Model 6 Microwave power estimation using BiLSTM"
   ]
  },
  {
   "cell_type": "code",
   "execution_count": null,
   "metadata": {
    "colab": {
     "base_uri": "https://localhost:8080/"
    },
    "id": "n5RLHDwcTzUr",
    "outputId": "b46f17a1-e6d5-44bb-d2f0-a371a028bc27"
   },
   "outputs": [
    {
     "name": "stdout",
     "output_type": "stream",
     "text": [
      "(42849, 1, 10) (42849,) (10495, 1, 10) (10495,)\n"
     ]
    }
   ],
   "source": [
    "y_microwave_estimation_train = y_microwave_estimation_train[0:X_train2.shape[0]]\n",
    "y_microwave_estimation_test = y_microwave_estimation_test[0:X_test2.shape[0]]\n",
    "print(X_train2.shape, y_microwave_estimation_train.shape, X_test2.shape, y_microwave_estimation_test.shape)"
   ]
  },
  {
   "cell_type": "code",
   "execution_count": null,
   "metadata": {
    "colab": {
     "base_uri": "https://localhost:8080/"
    },
    "id": "ab0BZQSbUuai",
    "outputId": "c67eca23-9e04-4d9f-d221-a46c8b79c9e5"
   },
   "outputs": [
    {
     "name": "stderr",
     "output_type": "stream",
     "text": [
      "WARNING:tensorflow:Layer lstm_4 will not use cuDNN kernels since it doesn't meet the criteria. It will use a generic GPU kernel as fallback when running on GPU.\n",
      "WARNING:tensorflow:Layer lstm_4 will not use cuDNN kernels since it doesn't meet the criteria. It will use a generic GPU kernel as fallback when running on GPU.\n",
      "WARNING:tensorflow:Layer lstm_4 will not use cuDNN kernels since it doesn't meet the criteria. It will use a generic GPU kernel as fallback when running on GPU.\n",
      "WARNING:tensorflow:Layer lstm_5 will not use cuDNN kernels since it doesn't meet the criteria. It will use a generic GPU kernel as fallback when running on GPU.\n",
      "WARNING:tensorflow:Layer lstm_5 will not use cuDNN kernels since it doesn't meet the criteria. It will use a generic GPU kernel as fallback when running on GPU.\n",
      "WARNING:tensorflow:Layer lstm_5 will not use cuDNN kernels since it doesn't meet the criteria. It will use a generic GPU kernel as fallback when running on GPU.\n"
     ]
    },
    {
     "name": "stdout",
     "output_type": "stream",
     "text": [
      "Model: \"sequential_2\"\n",
      "_________________________________________________________________\n",
      " Layer (type)                Output Shape              Param #   \n",
      "=================================================================\n",
      " bidirectional_4 (Bidirectio  (None, 1, 128)           38400     \n",
      " nal)                                                            \n",
      "                                                                 \n",
      " dropout_4 (Dropout)         (None, 1, 128)            0         \n",
      "                                                                 \n",
      " bidirectional_5 (Bidirectio  (None, 256)              263168    \n",
      " nal)                                                            \n",
      "                                                                 \n",
      " dropout_5 (Dropout)         (None, 256)               0         \n",
      "                                                                 \n",
      " dense_4 (Dense)             (None, 1024)              263168    \n",
      "                                                                 \n",
      " dense_5 (Dense)             (None, 1)                 1025      \n",
      "                                                                 \n",
      "=================================================================\n",
      "Total params: 565,761\n",
      "Trainable params: 565,761\n",
      "Non-trainable params: 0\n",
      "_________________________________________________________________\n"
     ]
    }
   ],
   "source": [
    "def build_lstm_model(layers):\n",
    "    model6 = Sequential()\n",
    "    for i in range(len(layers) - 2):\n",
    "        model6.add(Bidirectional(LSTM(layers[i+1],\n",
    "            input_dim=layers[i],\n",
    "            activation=\"relu\",\n",
    "            return_sequences= True if i < len(layers) - 3 else False )))\n",
    "        model6.add(Dropout(0.3))\n",
    "        \n",
    "    model6.add(Dense(1024,activation=\"relu\"))\n",
    "    model6.add(Dense(layers[-1]))\n",
    "    model6.build(input_shape=[None, 1, 10])\n",
    "    model6.summary()\n",
    "    return model6\n",
    "\n",
    "model6 = build_lstm_model([10,64,128,1])"
   ]
  },
  {
   "cell_type": "code",
   "execution_count": null,
   "metadata": {
    "colab": {
     "base_uri": "https://localhost:8080/"
    },
    "id": "vyuJSnCKU5ny",
    "outputId": "a002f1ea-529e-4acf-cbfb-132d65eac0d6"
   },
   "outputs": [
    {
     "name": "stdout",
     "output_type": "stream",
     "text": [
      "Epoch 1/100\n"
     ]
    },
    {
     "name": "stderr",
     "output_type": "stream",
     "text": [
      "/usr/local/lib/python3.7/dist-packages/keras/optimizer_v2/adam.py:105: UserWarning: The `lr` argument is deprecated, use `learning_rate` instead.\n",
      "  super(Adam, self).__init__(name, **kwargs)\n"
     ]
    },
    {
     "name": "stdout",
     "output_type": "stream",
     "text": [
      "59/59 [==============================] - 6s 28ms/step - loss: 4421.1250 - accuracy: 0.0193 - val_loss: 3745.1553 - val_accuracy: 0.0048\n",
      "Epoch 2/100\n",
      "59/59 [==============================] - 1s 19ms/step - loss: 3843.7971 - accuracy: 0.0110 - val_loss: 3529.1440 - val_accuracy: 0.0037\n",
      "Epoch 3/100\n",
      "59/59 [==============================] - 1s 18ms/step - loss: 3393.5859 - accuracy: 0.0094 - val_loss: 3452.9189 - val_accuracy: 0.0023\n",
      "Epoch 4/100\n",
      "59/59 [==============================] - 1s 18ms/step - loss: 3243.7151 - accuracy: 0.0079 - val_loss: 3407.9600 - val_accuracy: 0.0018\n",
      "Epoch 5/100\n",
      "59/59 [==============================] - 1s 18ms/step - loss: 3209.5498 - accuracy: 0.0085 - val_loss: 3372.2939 - val_accuracy: 0.0018\n",
      "Epoch 6/100\n",
      "59/59 [==============================] - 1s 18ms/step - loss: 3060.0139 - accuracy: 0.0065 - val_loss: 3355.3542 - val_accuracy: 0.0038\n",
      "Epoch 7/100\n",
      "59/59 [==============================] - 1s 16ms/step - loss: 3065.4717 - accuracy: 0.0065 - val_loss: 3350.0764 - val_accuracy: 0.0068\n",
      "Epoch 8/100\n",
      "59/59 [==============================] - 1s 18ms/step - loss: 3020.9365 - accuracy: 0.0077 - val_loss: 3335.3071 - val_accuracy: 0.0087\n",
      "Epoch 9/100\n",
      "59/59 [==============================] - 1s 19ms/step - loss: 2967.0474 - accuracy: 0.0076 - val_loss: 3319.2629 - val_accuracy: 0.0074\n",
      "Epoch 10/100\n",
      "59/59 [==============================] - 1s 17ms/step - loss: 2928.9888 - accuracy: 0.0087 - val_loss: 3314.5442 - val_accuracy: 0.0142\n",
      "Epoch 11/100\n",
      "59/59 [==============================] - 1s 18ms/step - loss: 2935.5581 - accuracy: 0.0097 - val_loss: 3306.4116 - val_accuracy: 0.0128\n",
      "Epoch 12/100\n",
      "59/59 [==============================] - 1s 19ms/step - loss: 2918.7334 - accuracy: 0.0087 - val_loss: 3302.8140 - val_accuracy: 0.0124\n",
      "Epoch 13/100\n",
      "59/59 [==============================] - 1s 19ms/step - loss: 2892.7812 - accuracy: 0.0090 - val_loss: 3287.9260 - val_accuracy: 0.0184\n",
      "Epoch 14/100\n",
      "59/59 [==============================] - 1s 18ms/step - loss: 2906.3364 - accuracy: 0.0142 - val_loss: 3266.1074 - val_accuracy: 0.0117\n",
      "Epoch 15/100\n",
      "59/59 [==============================] - 1s 18ms/step - loss: 2883.9485 - accuracy: 0.0114 - val_loss: 3262.6646 - val_accuracy: 0.0178\n",
      "Epoch 16/100\n",
      "59/59 [==============================] - 1s 19ms/step - loss: 2845.1770 - accuracy: 0.0142 - val_loss: 3246.3247 - val_accuracy: 0.0150\n",
      "Epoch 17/100\n",
      "59/59 [==============================] - 1s 18ms/step - loss: 2857.0676 - accuracy: 0.0161 - val_loss: 3246.2263 - val_accuracy: 0.0222\n",
      "Epoch 18/100\n",
      "59/59 [==============================] - 1s 17ms/step - loss: 2839.6921 - accuracy: 0.0159 - val_loss: 3234.9651 - val_accuracy: 0.0215\n",
      "Epoch 19/100\n",
      "59/59 [==============================] - 1s 17ms/step - loss: 2823.3235 - accuracy: 0.0148 - val_loss: 3216.6799 - val_accuracy: 0.0163\n",
      "Epoch 20/100\n",
      "59/59 [==============================] - 1s 18ms/step - loss: 2809.9729 - accuracy: 0.0139 - val_loss: 3208.9983 - val_accuracy: 0.0194\n",
      "Epoch 21/100\n",
      "59/59 [==============================] - 1s 18ms/step - loss: 2812.9961 - accuracy: 0.0143 - val_loss: 3200.9409 - val_accuracy: 0.0138\n",
      "Epoch 22/100\n",
      "59/59 [==============================] - 1s 16ms/step - loss: 2814.5388 - accuracy: 0.0112 - val_loss: 3209.5540 - val_accuracy: 0.0150\n",
      "Epoch 23/100\n",
      "59/59 [==============================] - 1s 18ms/step - loss: 2786.6274 - accuracy: 0.0135 - val_loss: 3196.3899 - val_accuracy: 0.0103\n",
      "Epoch 24/100\n",
      "59/59 [==============================] - 1s 17ms/step - loss: 2786.8608 - accuracy: 0.0140 - val_loss: 3191.1558 - val_accuracy: 0.0086\n",
      "Epoch 25/100\n",
      "59/59 [==============================] - 1s 18ms/step - loss: 2760.5857 - accuracy: 0.0132 - val_loss: 3170.1143 - val_accuracy: 0.0149\n",
      "Epoch 26/100\n",
      "59/59 [==============================] - 1s 18ms/step - loss: 2725.0134 - accuracy: 0.0142 - val_loss: 3163.8247 - val_accuracy: 0.0055\n",
      "Epoch 27/100\n",
      "59/59 [==============================] - 1s 17ms/step - loss: 2763.2673 - accuracy: 0.0110 - val_loss: 3166.1736 - val_accuracy: 0.0074\n",
      "Epoch 28/100\n",
      "59/59 [==============================] - 1s 19ms/step - loss: 2732.1462 - accuracy: 0.0101 - val_loss: 3158.5115 - val_accuracy: 0.0173\n",
      "Epoch 29/100\n",
      "59/59 [==============================] - 1s 19ms/step - loss: 2731.5925 - accuracy: 0.0146 - val_loss: 3147.3506 - val_accuracy: 0.0040\n",
      "Epoch 30/100\n",
      "59/59 [==============================] - 1s 18ms/step - loss: 2756.7766 - accuracy: 0.0123 - val_loss: 3152.7026 - val_accuracy: 0.0082\n",
      "Epoch 31/100\n",
      "59/59 [==============================] - 1s 18ms/step - loss: 2709.1465 - accuracy: 0.0116 - val_loss: 3146.7371 - val_accuracy: 0.0101\n",
      "Epoch 32/100\n",
      "59/59 [==============================] - 1s 19ms/step - loss: 2718.3069 - accuracy: 0.0118 - val_loss: 3146.1968 - val_accuracy: 0.0108\n",
      "Epoch 33/100\n",
      "59/59 [==============================] - 1s 17ms/step - loss: 2710.6394 - accuracy: 0.0120 - val_loss: 3144.2549 - val_accuracy: 0.0129\n",
      "Epoch 34/100\n",
      "59/59 [==============================] - 1s 18ms/step - loss: 2692.8042 - accuracy: 0.0111 - val_loss: 3134.3167 - val_accuracy: 0.0061\n",
      "Epoch 35/100\n",
      "59/59 [==============================] - 1s 16ms/step - loss: 2710.1106 - accuracy: 0.0116 - val_loss: 3137.6560 - val_accuracy: 0.0040\n",
      "Epoch 36/100\n",
      "59/59 [==============================] - 1s 19ms/step - loss: 2684.0876 - accuracy: 0.0094 - val_loss: 3122.6589 - val_accuracy: 0.0034\n",
      "Epoch 37/100\n",
      "59/59 [==============================] - 1s 18ms/step - loss: 2684.9087 - accuracy: 0.0111 - val_loss: 3127.5894 - val_accuracy: 0.0044\n",
      "Epoch 38/100\n",
      "59/59 [==============================] - 1s 18ms/step - loss: 2695.5249 - accuracy: 0.0104 - val_loss: 3115.5232 - val_accuracy: 0.0019\n",
      "Epoch 39/100\n",
      "59/59 [==============================] - 1s 16ms/step - loss: 2706.3594 - accuracy: 0.0109 - val_loss: 3118.4788 - val_accuracy: 0.0044\n",
      "Epoch 40/100\n",
      "59/59 [==============================] - 1s 16ms/step - loss: 2685.3472 - accuracy: 0.0089 - val_loss: 3126.2373 - val_accuracy: 0.0048\n",
      "Epoch 41/100\n",
      "59/59 [==============================] - 1s 19ms/step - loss: 2641.2578 - accuracy: 0.0102 - val_loss: 3106.6377 - val_accuracy: 0.0069\n",
      "Epoch 42/100\n",
      "59/59 [==============================] - 1s 18ms/step - loss: 2685.5518 - accuracy: 0.0109 - val_loss: 3112.2688 - val_accuracy: 0.0030\n",
      "Epoch 43/100\n",
      "59/59 [==============================] - 1s 17ms/step - loss: 2661.1077 - accuracy: 0.0088 - val_loss: 3122.5820 - val_accuracy: 0.0163\n",
      "Epoch 44/100\n",
      "59/59 [==============================] - 1s 19ms/step - loss: 2653.2087 - accuracy: 0.0086 - val_loss: 3102.7104 - val_accuracy: 0.0045\n",
      "Epoch 45/100\n",
      "59/59 [==============================] - 1s 18ms/step - loss: 2625.6130 - accuracy: 0.0092 - val_loss: 3109.6003 - val_accuracy: 0.0029\n",
      "Epoch 46/100\n",
      "59/59 [==============================] - 1s 18ms/step - loss: 2611.0681 - accuracy: 0.0100 - val_loss: 3120.2922 - val_accuracy: 0.0080\n",
      "Epoch 47/100\n",
      "59/59 [==============================] - 1s 17ms/step - loss: 2640.4316 - accuracy: 0.0097 - val_loss: 3121.3013 - val_accuracy: 0.0065\n",
      "Epoch 48/100\n",
      "59/59 [==============================] - 1s 17ms/step - loss: 2644.5486 - accuracy: 0.0076 - val_loss: 3115.9578 - val_accuracy: 0.0040\n",
      "Epoch 49/100\n",
      "59/59 [==============================] - 1s 17ms/step - loss: 2644.3716 - accuracy: 0.0083 - val_loss: 3110.5801 - val_accuracy: 0.0018\n",
      "Epoch 50/100\n",
      "59/59 [==============================] - 1s 17ms/step - loss: 2601.3918 - accuracy: 0.0075 - val_loss: 3090.5864 - val_accuracy: 0.0012\n",
      "Epoch 51/100\n",
      "59/59 [==============================] - 1s 16ms/step - loss: 2573.2578 - accuracy: 0.0096 - val_loss: 3103.9060 - val_accuracy: 0.0093\n",
      "Epoch 52/100\n",
      "59/59 [==============================] - 1s 18ms/step - loss: 2595.6589 - accuracy: 0.0086 - val_loss: 3112.3064 - val_accuracy: 0.0043\n",
      "Epoch 53/100\n",
      "59/59 [==============================] - 1s 16ms/step - loss: 2617.2009 - accuracy: 0.0097 - val_loss: 3112.2766 - val_accuracy: 0.0016\n",
      "Epoch 54/100\n",
      "59/59 [==============================] - 1s 17ms/step - loss: 2601.6594 - accuracy: 0.0077 - val_loss: 3103.9968 - val_accuracy: 0.0014\n",
      "Epoch 55/100\n",
      "59/59 [==============================] - 1s 17ms/step - loss: 2621.1660 - accuracy: 0.0077 - val_loss: 3114.8933 - val_accuracy: 0.0033\n",
      "Epoch 56/100\n",
      "59/59 [==============================] - 1s 17ms/step - loss: 2559.0334 - accuracy: 0.0073 - val_loss: 3103.6409 - val_accuracy: 0.0030\n",
      "Epoch 57/100\n",
      "59/59 [==============================] - 1s 17ms/step - loss: 2635.9048 - accuracy: 0.0076 - val_loss: 3128.0737 - val_accuracy: 0.0031\n",
      "Epoch 58/100\n",
      "59/59 [==============================] - 1s 17ms/step - loss: 2606.0474 - accuracy: 0.0078 - val_loss: 3119.2080 - val_accuracy: 0.0010\n",
      "Epoch 59/100\n",
      "59/59 [==============================] - 1s 18ms/step - loss: 2544.6575 - accuracy: 0.0078 - val_loss: 3124.4407 - val_accuracy: 0.0019\n",
      "Epoch 60/100\n",
      "59/59 [==============================] - 1s 18ms/step - loss: 2558.6453 - accuracy: 0.0074 - val_loss: 3123.8638 - val_accuracy: 0.0029\n",
      "Epoch 61/100\n",
      "59/59 [==============================] - 1s 18ms/step - loss: 2539.2246 - accuracy: 0.0095 - val_loss: 3124.7610 - val_accuracy: 0.0024\n",
      "Epoch 62/100\n",
      "59/59 [==============================] - 1s 18ms/step - loss: 2573.7371 - accuracy: 0.0066 - val_loss: 3125.8430 - val_accuracy: 0.0011\n",
      "Epoch 63/100\n",
      "59/59 [==============================] - 1s 18ms/step - loss: 2553.2812 - accuracy: 0.0075 - val_loss: 3122.9973 - val_accuracy: 0.0014\n",
      "Epoch 64/100\n",
      "59/59 [==============================] - 1s 17ms/step - loss: 2566.4900 - accuracy: 0.0067 - val_loss: 3129.4404 - val_accuracy: 0.0105\n",
      "Epoch 65/100\n",
      "59/59 [==============================] - 1s 18ms/step - loss: 2592.7053 - accuracy: 0.0077 - val_loss: 3120.0159 - val_accuracy: 0.0019\n",
      "Epoch 66/100\n",
      "59/59 [==============================] - 1s 17ms/step - loss: 2557.0100 - accuracy: 0.0052 - val_loss: 3127.8682 - val_accuracy: 0.0010\n",
      "Epoch 67/100\n",
      "59/59 [==============================] - 1s 18ms/step - loss: 2516.9607 - accuracy: 0.0066 - val_loss: 3130.3591 - val_accuracy: 0.0013\n",
      "Epoch 68/100\n",
      "59/59 [==============================] - 1s 17ms/step - loss: 2542.5930 - accuracy: 0.0054 - val_loss: 3129.5159 - val_accuracy: 0.0019\n",
      "Epoch 69/100\n",
      "59/59 [==============================] - 1s 17ms/step - loss: 2570.3423 - accuracy: 0.0074 - val_loss: 3135.2217 - val_accuracy: 0.0014\n",
      "Epoch 70/100\n",
      "59/59 [==============================] - 1s 17ms/step - loss: 2560.9644 - accuracy: 0.0063 - val_loss: 3135.0415 - val_accuracy: 0.0012\n",
      "Epoch 71/100\n",
      "59/59 [==============================] - 1s 17ms/step - loss: 2506.9011 - accuracy: 0.0048 - val_loss: 3133.4658 - val_accuracy: 0.0021\n",
      "Epoch 72/100\n",
      "59/59 [==============================] - 1s 17ms/step - loss: 2535.5752 - accuracy: 0.0065 - val_loss: 3143.4263 - val_accuracy: 0.0065\n",
      "Epoch 73/100\n",
      "59/59 [==============================] - 1s 17ms/step - loss: 2533.4700 - accuracy: 0.0064 - val_loss: 3140.6360 - val_accuracy: 9.3349e-04\n",
      "Epoch 74/100\n",
      "59/59 [==============================] - 1s 17ms/step - loss: 2557.6660 - accuracy: 0.0056 - val_loss: 3146.7932 - val_accuracy: 0.0022\n",
      "Epoch 75/100\n",
      "59/59 [==============================] - 1s 17ms/step - loss: 2561.8403 - accuracy: 0.0081 - val_loss: 3152.4536 - val_accuracy: 1.5558e-04\n",
      "Epoch 76/100\n",
      "59/59 [==============================] - 1s 17ms/step - loss: 2535.2466 - accuracy: 0.0062 - val_loss: 3153.2444 - val_accuracy: 0.0048\n",
      "Epoch 77/100\n",
      "59/59 [==============================] - 1s 17ms/step - loss: 2553.7661 - accuracy: 0.0053 - val_loss: 3141.6382 - val_accuracy: 0.0016\n",
      "Epoch 78/100\n",
      "59/59 [==============================] - 1s 16ms/step - loss: 2546.5554 - accuracy: 0.0066 - val_loss: 3147.0164 - val_accuracy: 6.2233e-04\n",
      "Epoch 79/100\n",
      "59/59 [==============================] - 1s 16ms/step - loss: 2559.9392 - accuracy: 0.0069 - val_loss: 3138.2634 - val_accuracy: 7.0012e-04\n",
      "Epoch 80/100\n",
      "59/59 [==============================] - 1s 18ms/step - loss: 2538.7188 - accuracy: 0.0060 - val_loss: 3139.2405 - val_accuracy: 3.8895e-04\n",
      "Epoch 81/100\n",
      "59/59 [==============================] - 1s 16ms/step - loss: 2538.5750 - accuracy: 0.0059 - val_loss: 3134.0942 - val_accuracy: 8.5570e-04\n",
      "Epoch 82/100\n",
      "59/59 [==============================] - 1s 17ms/step - loss: 2558.7327 - accuracy: 0.0064 - val_loss: 3147.2976 - val_accuracy: 9.3349e-04\n",
      "Epoch 83/100\n",
      "59/59 [==============================] - 1s 18ms/step - loss: 2576.3943 - accuracy: 0.0070 - val_loss: 3149.1729 - val_accuracy: 0.0011\n",
      "Epoch 84/100\n",
      "59/59 [==============================] - 1s 17ms/step - loss: 2560.1277 - accuracy: 0.0058 - val_loss: 3157.8779 - val_accuracy: 9.3349e-04\n",
      "Epoch 85/100\n",
      "59/59 [==============================] - 1s 18ms/step - loss: 2537.1641 - accuracy: 0.0056 - val_loss: 3144.6653 - val_accuracy: 9.3349e-04\n",
      "Epoch 86/100\n",
      "59/59 [==============================] - 1s 16ms/step - loss: 2506.8989 - accuracy: 0.0072 - val_loss: 3142.5300 - val_accuracy: 7.7791e-04\n",
      "Epoch 87/100\n",
      "59/59 [==============================] - 1s 16ms/step - loss: 2494.1433 - accuracy: 0.0059 - val_loss: 3148.8535 - val_accuracy: 0.0035\n",
      "Epoch 88/100\n",
      "59/59 [==============================] - 1s 17ms/step - loss: 2505.9263 - accuracy: 0.0075 - val_loss: 3160.4758 - val_accuracy: 0.0055\n",
      "Epoch 89/100\n",
      "59/59 [==============================] - 1s 17ms/step - loss: 2510.9878 - accuracy: 0.0060 - val_loss: 3162.7524 - val_accuracy: 0.0031\n",
      "Epoch 90/100\n",
      "59/59 [==============================] - 1s 18ms/step - loss: 2506.7034 - accuracy: 0.0058 - val_loss: 3149.4824 - val_accuracy: 0.0030\n",
      "Epoch 91/100\n",
      "59/59 [==============================] - 1s 18ms/step - loss: 2511.8604 - accuracy: 0.0058 - val_loss: 3151.4521 - val_accuracy: 0.0032\n",
      "Epoch 92/100\n",
      "59/59 [==============================] - 1s 18ms/step - loss: 2531.4104 - accuracy: 0.0053 - val_loss: 3155.0559 - val_accuracy: 0.0056\n",
      "Epoch 93/100\n",
      "59/59 [==============================] - 1s 18ms/step - loss: 2506.7712 - accuracy: 0.0050 - val_loss: 3147.4771 - val_accuracy: 0.0045\n",
      "Epoch 94/100\n",
      "59/59 [==============================] - 1s 17ms/step - loss: 2446.5686 - accuracy: 0.0051 - val_loss: 3151.0291 - val_accuracy: 0.0107\n",
      "Epoch 95/100\n",
      "59/59 [==============================] - 1s 16ms/step - loss: 2495.4238 - accuracy: 0.0075 - val_loss: 3139.0762 - val_accuracy: 0.0012\n",
      "Epoch 96/100\n",
      "59/59 [==============================] - 1s 18ms/step - loss: 2534.8242 - accuracy: 0.0058 - val_loss: 3146.3633 - val_accuracy: 0.0057\n",
      "Epoch 97/100\n",
      "59/59 [==============================] - 1s 17ms/step - loss: 2506.2717 - accuracy: 0.0058 - val_loss: 3144.7959 - val_accuracy: 0.0077\n",
      "Epoch 98/100\n",
      "59/59 [==============================] - 1s 16ms/step - loss: 2446.3647 - accuracy: 0.0063 - val_loss: 3152.3914 - val_accuracy: 0.0020\n",
      "Epoch 99/100\n",
      "59/59 [==============================] - 1s 16ms/step - loss: 2465.5771 - accuracy: 0.0056 - val_loss: 3155.2583 - val_accuracy: 0.0023\n",
      "Epoch 100/100\n",
      "59/59 [==============================] - 1s 16ms/step - loss: 2472.3945 - accuracy: 0.0070 - val_loss: 3151.5991 - val_accuracy: 0.0029\n",
      "Finish trainning. Time:  145.8590795993805\n"
     ]
    }
   ],
   "source": [
    "start = time.time()\n",
    "adam = Adam(lr = 5e-5)\n",
    "model4.compile(loss='mse', optimizer=adam,  metrics=['accuracy'])\n",
    "checkpointer = ModelCheckpoint(filepath=\"./bilstmmicrowave_model.hdf5\", verbose=0, save_best_only=True)\n",
    "hist_lstm = model4.fit(\n",
    "            X_train2,\n",
    "            y_microwave_estimation_train,\n",
    "            batch_size=512,\n",
    "            verbose=1,\n",
    "            epochs=100,\n",
    "            validation_split=0.3,\n",
    "            callbacks=[checkpointer])\n",
    "print('Finish trainning. Time: ', time.time() - start)"
   ]
  },
  {
   "cell_type": "code",
   "execution_count": null,
   "metadata": {
    "colab": {
     "base_uri": "https://localhost:8080/"
    },
    "id": "BsN-zty0VFVC",
    "outputId": "c2c5e8d1-dce6-4601-a698-e4d768338596"
   },
   "outputs": [
    {
     "name": "stdout",
     "output_type": "stream",
     "text": [
      "(10495,)\n"
     ]
    }
   ],
   "source": [
    "#prediction\n",
    "pred_lstm_microwave = model6.predict(X_test2).reshape(-1)\n",
    "print(pred_lstm_microwave.shape)"
   ]
  },
  {
   "cell_type": "markdown",
   "metadata": {
    "id": "9usomnYzeD17"
   },
   "source": [
    "## Conclusion"
   ]
  },
  {
   "cell_type": "markdown",
   "metadata": {
    "id": "FTMdLS0h6-3p"
   },
   "source": [
    "Model 1 ON/OFF classification fridge results"
   ]
  },
  {
   "cell_type": "code",
   "execution_count": null,
   "metadata": {
    "id": "RSmgUNBieGcC"
   },
   "outputs": [],
   "source": [
    "def print_confusion_matrix(y_true, y_pred):\n",
    "    cm = confusion_matrix(y_true, y_pred)\n",
    "    print('True  positive= ', cm[1][1])\n",
    "    print('False positive = ', cm[0][1])\n",
    "    print('True negative = ', cm[0][0])\n",
    "    print('False negative = ', cm[1][0])"
   ]
  },
  {
   "cell_type": "code",
   "execution_count": null,
   "metadata": {
    "colab": {
     "base_uri": "https://localhost:8080/"
    },
    "id": "xHPy0s_c7cpG",
    "outputId": "55c51acd-e1f8-4c87-8595-7e9b08bffe22"
   },
   "outputs": [
    {
     "name": "stdout",
     "output_type": "stream",
     "text": [
      "True  positive=  1344\n",
      "False positive =  734\n",
      "True negative =  6293\n",
      "False negative =  2124\n",
      "precison =  0.6467757459095284\n",
      "recall =  0.3875432525951557\n",
      "f1  =  0.48467363865849256\n",
      "accuracy  =  0.7276798475464507\n"
     ]
    }
   ],
   "source": [
    "print_confusion_matrix(y_fridge_classification_test, y_fridge_classif_predict)\n",
    "print(\"precison = \",precision_score(y_fridge_classification_test, y_fridge_classif_predict))\n",
    "print(\"recall = \",recall_score(y_fridge_classification_test, y_fridge_classif_predict))\n",
    "print(\"f1  = \",f1_score(y_fridge_classification_test, y_fridge_classif_predict))\n",
    "print(\"accuracy  = \",accuracy_score(y_fridge_classification_test, y_fridge_classif_predict))"
   ]
  },
  {
   "cell_type": "markdown",
   "metadata": {
    "id": "EaBaHn_VIOI5"
   },
   "source": [
    "Model 2 Fridge power estimation results"
   ]
  },
  {
   "cell_type": "code",
   "execution_count": null,
   "metadata": {
    "id": "SvL8uSF1D1uA"
   },
   "outputs": [],
   "source": [
    "#Mean square error and Mean absolute error\n",
    "def mse_loss(y_predict, y):\n",
    "    return np.mean(np.square(y_predict - y)) \n",
    "def mae_loss(y_predict, y):\n",
    "    return np.mean(np.abs(y_predict - y))"
   ]
  },
  {
   "cell_type": "code",
   "execution_count": null,
   "metadata": {
    "colab": {
     "base_uri": "https://localhost:8080/"
    },
    "id": "6f6Df9_eIaCu",
    "outputId": "cc231a89-b6fc-4364-dee0-da5b09a1c094"
   },
   "outputs": [
    {
     "name": "stdout",
     "output_type": "stream",
     "text": [
      "Mean square error on test set:  1387.9451617473835\n",
      "Mean absolute error on the test set:  29.180195558480165\n",
      "Estimation accuracy : 0.5508915530315718\n"
     ]
    }
   ],
   "source": [
    "mse_loss_lstm = mse_loss(pred_lstm, y_fridge_estimation_test)\n",
    "mae_loss_lstm = mae_loss(pred_lstm, y_fridge_estimation_test)\n",
    "EA = 1 - ((sum(abs(pred_lstm - y_fridge_estimation_test))))/(2*sum(y_fridge_estimation_test))\n",
    "print('Mean square error on test set: ', mse_loss_lstm)\n",
    "print('Mean absolute error on the test set: ', mae_loss_lstm)\n",
    "print('Estimation accuracy :', EA)"
   ]
  },
  {
   "cell_type": "code",
   "execution_count": null,
   "metadata": {
    "colab": {
     "base_uri": "https://localhost:8080/",
     "height": 282
    },
    "id": "bZT7tCIYIog4",
    "outputId": "f6307361-ea73-438a-b20e-78a7e23f7ed1"
   },
   "outputs": [
    {
     "data": {
      "text/plain": [
       "<matplotlib.legend.Legend at 0x7f492ce80c90>"
      ]
     },
     "execution_count": 45,
     "metadata": {},
     "output_type": "execute_result"
    },
    {
     "data": {
      "image/png": "[encoded data removed]",
      "text/plain": [
       "<Figure size 432x288 with 1 Axes>"
      ]
     },
     "metadata": {
      "needs_background": "light"
     },
     "output_type": "display_data"
    }
   ],
   "source": [
    "%matplotlib inline\n",
    "#%matplotlib notebook\n",
    "plt.plot(pred_lstm, label='predicted',color='red')\n",
    "plt.plot(y_fridge_estimation_test, label='real')\n",
    "plt.legend()"
   ]
  },
  {
   "cell_type": "markdown",
   "metadata": {
    "id": "WxRhIxrYNfEp"
   },
   "source": [
    "Model 3 Washing machine ON/OFF classification results"
   ]
  },
  {
   "cell_type": "code",
   "execution_count": null,
   "metadata": {
    "colab": {
     "base_uri": "https://localhost:8080/"
    },
    "id": "KiheVwG7JZ-A",
    "outputId": "9dd2751d-639f-4a6b-e4a9-cbd75159ac6d"
   },
   "outputs": [
    {
     "name": "stdout",
     "output_type": "stream",
     "text": [
      "True  positive=  4\n",
      "False positive =  3\n",
      "True negative =  10444\n",
      "False negative =  44\n",
      "precison =  0.5714285714285714\n",
      "recall =  0.08333333333333333\n",
      "f1  =  0.14545454545454545\n",
      "accuracy  =  0.9955216769890424\n"
     ]
    }
   ],
   "source": [
    "def print_confusion_matrix(y_true, y_pred):\n",
    "    cm = confusion_matrix(y_true, y_pred)\n",
    "    print('True  positive= ', cm[1][1])\n",
    "    print('False positive = ', cm[0][1])\n",
    "    print('True negative = ', cm[0][0])\n",
    "    print('False negative = ', cm[1][0])\n",
    "\n",
    "print_confusion_matrix(y_wm_classification_test, y_wm_classif_predict)\n",
    "print(\"precison = \",precision_score(y_wm_classification_test, y_wm_classif_predict))\n",
    "print(\"recall = \",recall_score(y_wm_classification_test, y_wm_classif_predict))\n",
    "print(\"f1  = \",f1_score(y_wm_classification_test, y_wm_classif_predict))\n",
    "print(\"accuracy  = \",accuracy_score(y_wm_classification_test, y_wm_classif_predict))"
   ]
  },
  {
   "cell_type": "markdown",
   "metadata": {
    "id": "r04XkrhrQuqh"
   },
   "source": [
    "Model 4 washing machine power estimation results"
   ]
  },
  {
   "cell_type": "code",
   "execution_count": null,
   "metadata": {
    "colab": {
     "base_uri": "https://localhost:8080/"
    },
    "id": "-aeEMWgiOE44",
    "outputId": "0e38a16a-f70b-4ddf-b64f-a79908a70511"
   },
   "outputs": [
    {
     "name": "stdout",
     "output_type": "stream",
     "text": [
      "Mean square error on test set:  5342.779500302194\n",
      "Mean absolute error on the test set:  6.223156808537916\n",
      "Estimation accuracy : 0.12503155873483585\n"
     ]
    }
   ],
   "source": [
    "#Mean square error and Mean absolute error\n",
    "def mse_loss(y_predict, y):\n",
    "    return np.mean(np.square(y_predict - y)) \n",
    "def mae_loss(y_predict, y):\n",
    "    return np.mean(np.abs(y_predict - y))\n",
    "\n",
    "mse_loss_lstm = mse_loss(pred_lstm_wm, y_wm_estimation_test)\n",
    "mae_loss_lstm = mae_loss(pred_lstm_wm, y_wm_estimation_test)\n",
    "EA = 1 - ((sum(abs(pred_lstm_wm - y_wm_estimation_test))))/(2*sum(y_wm_estimation_test))\n",
    "print('Mean square error on test set: ', mse_loss_lstm)\n",
    "print('Mean absolute error on the test set: ', mae_loss_lstm)\n",
    "print('Estimation accuracy :', EA)"
   ]
  },
  {
   "cell_type": "code",
   "execution_count": null,
   "metadata": {
    "colab": {
     "base_uri": "https://localhost:8080/",
     "height": 282
    },
    "id": "S-fQ21iJVYH6",
    "outputId": "67b22e3c-b39c-45d9-e8b2-acbb93cf603f"
   },
   "outputs": [
    {
     "data": {
      "text/plain": [
       "<matplotlib.legend.Legend at 0x7f492ced0d10>"
      ]
     },
     "execution_count": 48,
     "metadata": {},
     "output_type": "execute_result"
    },
    {
     "data": {
      "image/png": "[encoded data removed]",
      "text/plain": [
       "<Figure size 432x288 with 1 Axes>"
      ]
     },
     "metadata": {
      "needs_background": "light"
     },
     "output_type": "display_data"
    }
   ],
   "source": [
    "%matplotlib inline\n",
    "#%matplotlib notebook\n",
    "plt.plot(pred_lstm_wm, label='predicted',color='red')\n",
    "plt.plot(y_wm_estimation_test, label='real')\n",
    "plt.legend()"
   ]
  },
  {
   "cell_type": "markdown",
   "metadata": {
    "id": "9soM2npKSQgc"
   },
   "source": [
    "Model 5 Microwave ON/OFF classification results"
   ]
  },
  {
   "cell_type": "code",
   "execution_count": null,
   "metadata": {
    "colab": {
     "base_uri": "https://localhost:8080/"
    },
    "id": "XAR4Fd0XSX6m",
    "outputId": "176e3f65-42ba-4a7c-fa17-4c9270af302f"
   },
   "outputs": [
    {
     "name": "stdout",
     "output_type": "stream",
     "text": [
      "True  positive=  0\n",
      "False positive =  0\n",
      "True negative =  10088\n",
      "False negative =  407\n",
      "precison =  0.0\n",
      "recall =  0.0\n",
      "f1  =  0.0\n",
      "accuracy  =  0.9612196283944736\n"
     ]
    },
    {
     "name": "stderr",
     "output_type": "stream",
     "text": [
      "/usr/local/lib/python3.7/dist-packages/sklearn/metrics/_classification.py:1318: UndefinedMetricWarning: Precision is ill-defined and being set to 0.0 due to no predicted samples. Use `zero_division` parameter to control this behavior.\n",
      "  _warn_prf(average, modifier, msg_start, len(result))\n"
     ]
    }
   ],
   "source": [
    "def print_confusion_matrix(y_true, y_pred):\n",
    "    cm = confusion_matrix(y_true, y_pred)\n",
    "    print('True  positive= ', cm[1][1])\n",
    "    print('False positive = ', cm[0][1])\n",
    "    print('True negative = ', cm[0][0])\n",
    "    print('False negative = ', cm[1][0])\n",
    "\n",
    "print_confusion_matrix(y_microwave_classification_test, y_microwave_classif_predict)\n",
    "print(\"precison = \",precision_score(y_microwave_classification_test, y_microwave_classif_predict))\n",
    "print(\"recall = \",recall_score(y_microwave_classification_test, y_microwave_classif_predict))\n",
    "print(\"f1  = \",f1_score(y_microwave_classification_test, y_microwave_classif_predict))\n",
    "print(\"accuracy  = \",accuracy_score(y_microwave_classification_test, y_microwave_classif_predict))"
   ]
  },
  {
   "cell_type": "markdown",
   "metadata": {
    "id": "WvCqdOWMVRFi"
   },
   "source": [
    "Model 6 microwave power estimation results"
   ]
  },
  {
   "cell_type": "code",
   "execution_count": null,
   "metadata": {
    "colab": {
     "base_uri": "https://localhost:8080/"
    },
    "id": "svB0qR92SsEg",
    "outputId": "9da1b057-8fbb-46c1-e772-f0c4c83706a7"
   },
   "outputs": [
    {
     "name": "stdout",
     "output_type": "stream",
     "text": [
      "Mean square error on test set:  2793.6704079846104\n",
      "Mean absolute error on the test set:  12.213312000533946\n",
      "Estimation accuracy : 0.4273730051372907\n"
     ]
    }
   ],
   "source": [
    "#Mean square error and Mean absolute error\n",
    "def mse_loss(y_predict, y):\n",
    "    return np.mean(np.square(y_predict - y)) \n",
    "def mae_loss(y_predict, y):\n",
    "    return np.mean(np.abs(y_predict - y))\n",
    "\n",
    "mse_loss_lstm = mse_loss(pred_lstm_microwave, y_microwave_estimation_test)\n",
    "mae_loss_lstm = mae_loss(pred_lstm_microwave, y_microwave_estimation_test)\n",
    "EA = 1 - ((sum(abs(pred_lstm_microwave - y_microwave_estimation_test))))/(2*sum(y_microwave_estimation_test))\n",
    "print('Mean square error on test set: ', mse_loss_lstm)\n",
    "print('Mean absolute error on the test set: ', mae_loss_lstm)\n",
    "print('Estimation accuracy :', EA)"
   ]
  },
  {
   "cell_type": "code",
   "execution_count": null,
   "metadata": {
    "colab": {
     "base_uri": "https://localhost:8080/",
     "height": 282
    },
    "id": "Wlv1dFbRVj6j",
    "outputId": "20d6ad87-7df6-472f-960b-330f22e65c2f"
   },
   "outputs": [
    {
     "data": {
      "text/plain": [
       "<matplotlib.legend.Legend at 0x7f492ced0c10>"
      ]
     },
     "execution_count": 51,
     "metadata": {},
     "output_type": "execute_result"
    },
    {
     "data": {
      "image/png": "[encoded data removed]",
      "text/plain": [
       "<Figure size 432x288 with 1 Axes>"
      ]
     },
     "metadata": {
      "needs_background": "light"
     },
     "output_type": "display_data"
    }
   ],
   "source": [
    "%matplotlib inline\n",
    "#matplotlib notebook\n",
    "plt.plot(pred_lstm_microwave, label='predicted',color='red')\n",
    "plt.plot(y_microwave_estimation_test, label='real')\n",
    "plt.legend()"
   ]
  },
  {
   "cell_type": "markdown",
   "metadata": {
    "id": "NpwQxYR2WBJa"
   },
   "source": [
    "In conclusion, the models should be adjusted for better accuracy and other models could be tested. Moreover, the performance of the models could be improved by using for example a sampling rate of 1 minute instead of 15 minutes (used here because of time concerns)."
   ]
  },
  {
   "cell_type": "code",
   "execution_count": null,
   "metadata": {
    "id": "yrVKAegKYw_Z"
   },
   "outputs": [],
   "source": []
  }
 ],
 "metadata": {
  "accelerator": "GPU",
  "colab": {
   "collapsed_sections": [],
   "provenance": []
  },
  "gpuClass": "standard",
  "kernelspec": {
   "display_name": "Python 3",
   "language": "python",
   "name": "python3"
  },
  "language_info": {
   "codemirror_mode": {
    "name": "ipython",
    "version": 3
   },
   "file_extension": ".py",
   "mimetype": "text/x-python",
   "name": "python",
   "nbconvert_exporter": "python",
   "pygments_lexer": "ipython3",
   "version": "3.8.3"
  }
 },
 "nbformat": 4,
 "nbformat_minor": 1
}
